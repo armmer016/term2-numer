{
 "cells": [
  {
   "cell_type": "code",
   "execution_count": 1,
   "metadata": {},
   "outputs": [
    {
     "ename": "NameError",
     "evalue": "name 'e' is not defined",
     "output_type": "error",
     "traceback": [
      "\u001b[1;31m---------------------------------------------------------------------------\u001b[0m",
      "\u001b[1;31mNameError\u001b[0m                                 Traceback (most recent call last)",
      "\u001b[1;32m<ipython-input-1-c7e40f021ad1>\u001b[0m in \u001b[0;36m<module>\u001b[1;34m\u001b[0m\n\u001b[1;32m----> 1\u001b[1;33m \u001b[0me\u001b[0m\u001b[1;33m^\u001b[0m\u001b[1;33m(\u001b[0m\u001b[1;36m0.2\u001b[0m\u001b[1;33m)\u001b[0m\u001b[1;33m\u001b[0m\u001b[1;33m\u001b[0m\u001b[0m\n\u001b[0m",
      "\u001b[1;31mNameError\u001b[0m: name 'e' is not defined"
     ]
    }
   ],
   "source": [
    "e^(0.2)"
   ]
  },
  {
   "cell_type": "code",
   "execution_count": 2,
   "metadata": {},
   "outputs": [],
   "source": [
    "import math"
   ]
  },
  {
   "cell_type": "code",
   "execution_count": 3,
   "metadata": {},
   "outputs": [
    {
     "data": {
      "text/plain": [
       "1.2214027581601699"
      ]
     },
     "execution_count": 3,
     "metadata": {},
     "output_type": "execute_result"
    }
   ],
   "source": [
    "math.e**(0.2)"
   ]
  },
  {
   "cell_type": "code",
   "execution_count": 5,
   "metadata": {},
   "outputs": [],
   "source": [
    "def factorial(n):\n",
    "    if (n == 0):\n",
    "        return 1\n",
    "    else:\n",
    "        return n * factorial(n-1)\n",
    "    # end if\n",
    "# end function"
   ]
  },
  {
   "cell_type": "code",
   "execution_count": 10,
   "metadata": {},
   "outputs": [
    {
     "name": "stdout",
     "output_type": "stream",
     "text": [
      "0! = 1\n",
      "1! = 1\n",
      "2! = 2\n",
      "3! = 6\n",
      "4! = 24\n"
     ]
    }
   ],
   "source": [
    "print('0! =',factorial(0))\n",
    "print('1! =',factorial(1))\n",
    "print('2! =',factorial(2))\n",
    "print('3! =',factorial(3))\n",
    "print('4! =',factorial(4))"
   ]
  },
  {
   "cell_type": "code",
   "execution_count": 16,
   "metadata": {},
   "outputs": [
    {
     "name": "stdout",
     "output_type": "stream",
     "text": [
      "round 0: ex = 1.0\n",
      "round 1: ex = 1.2\n",
      "round 2: ex = 1.22\n",
      "round 3: ex = 1.2213333333333334\n",
      "round 4: ex = 1.2214\n",
      "round 5: ex = 1.2214026666666666\n",
      "round 6: ex = 1.2214027555555556\n",
      "round 7: ex = 1.221402758095238\n",
      "round 8: ex = 1.2214027581587301\n",
      "round 9: ex = 1.221402758160141\n",
      "ex = 1.221402758160141\n"
     ]
    }
   ],
   "source": [
    "'''\n",
    "Remember that f(x) = e^x = 1 + x + x/2! + x/3! + x/4! + ... for x within Real\n",
    "\n",
    "'''\n",
    "infty = 10\n",
    "x = 0.2\n",
    "# initial sum\n",
    "ex = 0\n",
    "for i in range(0,infty):\n",
    "    ex = ex + x**(i)/factorial(i)\n",
    "    print('round {}: ex = {}'.format(i,ex))\n",
    "# end for\n",
    "print('ex =', ex)"
   ]
  },
  {
   "cell_type": "code",
   "execution_count": 17,
   "metadata": {},
   "outputs": [
    {
     "name": "stdout",
     "output_type": "stream",
     "text": [
      "1.2214027581601699\n"
     ]
    }
   ],
   "source": [
    "true_value = math.e**0.2\n",
    "print(true_value)"
   ]
  },
  {
   "cell_type": "code",
   "execution_count": 15,
   "metadata": {},
   "outputs": [
    {
     "name": "stdout",
     "output_type": "stream",
     "text": [
      "1.8179474660717385e-14\n"
     ]
    }
   ],
   "source": [
    "true_error_pct = (abs(ex - true_value)/true_value) * 100\n",
    "print(true_error_pct)"
   ]
  },
  {
   "cell_type": "code",
   "execution_count": 19,
   "metadata": {},
   "outputs": [
    {
     "name": "stdout",
     "output_type": "stream",
     "text": [
      "0.0002183282171696027\n"
     ]
    }
   ],
   "source": [
    "rnd5_ex = 1.2214026666666666\n",
    "rnd4_ex = 1.2214\n",
    "approx_error_rnd5_pct = (abs(rnd5_ex - rnd4_ex)/rnd5_ex) * 100\n",
    "print(approx_error_rnd5_pct)"
   ]
  },
  {
   "cell_type": "code",
   "execution_count": 20,
   "metadata": {},
   "outputs": [
    {
     "name": "stdout",
     "output_type": "stream",
     "text": [
      "at 5 significant figures: es = 0.0005\n"
     ]
    }
   ],
   "source": [
    "# stopping criterion\n",
    "# d is the number of significant figures that i want my answer to be correct\n",
    "d = 5\n",
    "es = 0.5 * 10**(2-d)\n",
    "print('at {} significant figures: es = {}'.format(d,es))"
   ]
  },
  {
   "cell_type": "code",
   "execution_count": 22,
   "metadata": {},
   "outputs": [
    {
     "name": "stdout",
     "output_type": "stream",
     "text": [
      "round 0: ex = 1.0 with approx_err = 100.0\n",
      "round 1: ex = 1.2 with approx_err = 16.666666666666664\n",
      "round 2: ex = 1.22 with approx_err = 1.6393442622950833\n",
      "round 3: ex = 1.2213333333333334 with approx_err = 0.10917030567686205\n",
      "round 4: ex = 1.2214 with approx_err = 0.005458217346214125\n",
      "round 5: ex = 1.2214026666666666 with approx_err = 0.0002183282171696027\n",
      "ex = 1.2214026666666666\n"
     ]
    }
   ],
   "source": [
    "infty = 10\n",
    "x = 0.2\n",
    "# initial sum\n",
    "ex = 0\n",
    "i = 0\n",
    "prev_ex = 0\n",
    "approx_error_pct = 100\n",
    "while (approx_error_pct > es):\n",
    "    ex = ex + x**(i)/factorial(i)\n",
    "    approx_error_pct = (abs(ex - prev_ex)/ex) * 100\n",
    "    prev_ex = ex\n",
    "    print('round {}: ex = {} with approx_err = {}'.format(i,ex,approx_error_pct))\n",
    "    i += 1\n",
    "# end while\n",
    "print('ex =', ex)"
   ]
  },
  {
   "cell_type": "code",
   "execution_count": 23,
   "metadata": {},
   "outputs": [
    {
     "name": "stdout",
     "output_type": "stream",
     "text": [
      "1.2214027581601699\n"
     ]
    }
   ],
   "source": [
    "print(true_value)"
   ]
  },
  {
   "cell_type": "code",
   "execution_count": 24,
   "metadata": {},
   "outputs": [],
   "source": [
    "import numpy as np"
   ]
  },
  {
   "cell_type": "code",
   "execution_count": 25,
   "metadata": {},
   "outputs": [
    {
     "name": "stdout",
     "output_type": "stream",
     "text": [
      "natural log of 0.2 = log(0.2) = -1.6094379124341003\n"
     ]
    }
   ],
   "source": [
    "print('natural log of 0.2 = log(0.2) =',np.log(0.2))"
   ]
  },
  {
   "cell_type": "code",
   "execution_count": 35,
   "metadata": {},
   "outputs": [
    {
     "name": "stdout",
     "output_type": "stream",
     "text": [
      "round 1: logx = 0.729033373505779 with approx_err = 100.0\n",
      "round 2: logx = 0.4632885436631707 with approx_err = 57.36054419593321\n",
      "round 3: logx = 0.5924464435244213 with approx_err = 21.800772250888972\n",
      "round 4: logx = 0.5218261289363445 with approx_err = 13.533303656531064\n",
      "round 5: logx = 0.5630137818820925 with approx_err = 7.315567446335372\n",
      "round 6: logx = 0.5379911372372392 with approx_err = 4.6511258109850555\n",
      "round 7: logx = 0.5536274312710738 with approx_err = 2.824335130565191\n",
      "round 8: logx = 0.5436529736060359 with approx_err = 1.8347104033805957\n",
      "round 9: logx = 0.5501167180686432 with approx_err = 1.1749769185892442\n",
      "round 10: logx = 0.5458756611806946 with approx_err = 0.7769272729206088\n",
      "round 11: logx = 0.5486864539172864 with approx_err = 0.5122766776042035\n",
      "round 12: logx = 0.5468080556822186 with approx_err = 0.34352058561469\n",
      "round 13: logx = 0.5480721310687713 with approx_err = 0.23064033270359727\n",
      "round 14: logx = 0.5472164031498774 with approx_err = 0.15637833843579108\n",
      "round 15: logx = 0.5477986670806241 with approx_err = 0.10629159319604134\n",
      "round 16: logx = 0.5474007078577775 with approx_err = 0.07269980055450956\n",
      "round 17: logx = 0.5476737672034241 with approx_err = 0.049858028994323476\n",
      "round 18: logx = 0.5474857572372736 with approx_err = 0.03434061318768814\n",
      "round 19: logx = 0.5476156088013661 with approx_err = 0.02371217364982186\n",
      "round 20: logx = 0.547525675983732 with approx_err = 0.016425315118318375\n",
      "round 21: logx = 0.5475881179127117 with approx_err = 0.01140308325492066\n",
      "round 22: logx = 0.5475446648557672 with approx_err = 0.007935983990615\n",
      "round 23: logx = 0.5475749662484304 with approx_err = 0.005533743237156515\n",
      "round 24: logx = 0.5475537959688533 with approx_err = 0.003866337834364537\n",
      "round 25: logx = 0.547568612455578 with approx_err = 0.0027058685227023763\n",
      "round 26: logx = 0.5475582261927892 with approx_err = 0.0018968325726810855\n",
      "round 27: logx = 0.5475655176830548 with approx_err = 0.0013316196930249853\n",
      "round 28: logx = 0.5475603917911566 with approx_err = 0.0009361327033726033\n",
      "round 29: logx = 0.5475639998772034 with approx_err = 0.0006589341241633414\n",
      "round 30: logx = 0.5475614571425655 with approx_err = 0.00046437429163002344\n",
      "logx = 0.5475614571425655\n",
      "log(0.2) = -1.6094379124341003\n"
     ]
    }
   ],
   "source": [
    "# log(1+x) = x - x^2/2 + x^3/3 - x^4/4 + ...\n",
    "infty = 10\n",
    "# if we want to find log(0.2), we need to find ln(1+x) -> x = -0.8\n",
    "x = 0.729033373505779\n",
    "# initial sum\n",
    "logx = 0\n",
    "i = 1 # ********* # look at the formula\n",
    "prev_logx = 0\n",
    "approx_error_pct = 100\n",
    "while (approx_error_pct > es):\n",
    "    logx = logx + (((-1)**(i+1))*(x**i)/i)\n",
    "    approx_error_pct = (abs(logx - prev_logx)/abs(logx)) * 100\n",
    "    prev_logx = logx\n",
    "    print('round {}: logx = {} with approx_err = {}'.format(i,logx,approx_error_pct))\n",
    "    i += 1\n",
    "#end while\n",
    "print('logx =', logx)\n",
    "print('log(0.2) =', np.log(0.2))"
   ]
  },
  {
   "cell_type": "code",
   "execution_count": 33,
   "metadata": {},
   "outputs": [
    {
     "data": {
      "text/plain": [
       "1.547562508716013"
      ]
     },
     "execution_count": 33,
     "metadata": {},
     "output_type": "execute_result"
    }
   ],
   "source": [
    "np.log(4.7)"
   ]
  },
  {
   "cell_type": "code",
   "execution_count": 34,
   "metadata": {},
   "outputs": [
    {
     "data": {
      "text/plain": [
       "1.729033373505779"
      ]
     },
     "execution_count": 34,
     "metadata": {},
     "output_type": "execute_result"
    }
   ],
   "source": [
    "# convert 4.7 -> 1+x\n",
    "4.7/math.e"
   ]
  },
  {
   "cell_type": "code",
   "execution_count": null,
   "metadata": {},
   "outputs": [],
   "source": [
    "# log(4.7) = log(e * 1.7290333) = log(e) + log(1.7290333) = 1 + log(1.72903333) = 1 + log(1 + 0.72903333)\n",
    "# log(1+0.7290333) = 0.5475614571425655\n",
    "# \n",
    "# Therefore, log(4.7) = 1 + log(1 + 0.7290333) = 1 + 0.5475614571425655 = 1.5475614571425655"
   ]
  },
  {
   "cell_type": "code",
   "execution_count": 40,
   "metadata": {},
   "outputs": [
    {
     "name": "stdout",
     "output_type": "stream",
     "text": [
      "[ 0.   0.1  0.2  0.3  0.4  0.5  0.6  0.7  0.8  0.9  1.   1.1  1.2  1.3\n",
      "  1.4  1.5  1.6  1.7  1.8  1.9  2.   2.1  2.2  2.3  2.4  2.5  2.6  2.7\n",
      "  2.8  2.9  3.   3.1  3.2  3.3  3.4  3.5  3.6  3.7  3.8  3.9  4.   4.1\n",
      "  4.2  4.3  4.4  4.5  4.6  4.7  4.8  4.9  5.   5.1  5.2  5.3  5.4  5.5\n",
      "  5.6  5.7  5.8  5.9  6.   6.1  6.2  6.3  6.4  6.5  6.6  6.7  6.8  6.9\n",
      "  7.   7.1  7.2  7.3  7.4  7.5  7.6  7.7  7.8  7.9  8.   8.1  8.2  8.3\n",
      "  8.4  8.5  8.6  8.7  8.8  8.9  9.   9.1  9.2  9.3  9.4  9.5  9.6  9.7\n",
      "  9.8  9.9 10. ]\n",
      "[ 1.   1.2  1.4  1.6  1.8  2.   2.2  2.4  2.6  2.8  3.   3.2  3.4  3.6\n",
      "  3.8  4.   4.2  4.4  4.6  4.8  5.   5.2  5.4  5.6  5.8  6.   6.2  6.4\n",
      "  6.6  6.8  7.   7.2  7.4  7.6  7.8  8.   8.2  8.4  8.6  8.8  9.   9.2\n",
      "  9.4  9.6  9.8 10.  10.2 10.4 10.6 10.8 11.  11.2 11.4 11.6 11.8 12.\n",
      " 12.2 12.4 12.6 12.8 13.  13.2 13.4 13.6 13.8 14.  14.2 14.4 14.6 14.8\n",
      " 15.  15.2 15.4 15.6 15.8 16.  16.2 16.4 16.6 16.8 17.  17.2 17.4 17.6\n",
      " 17.8 18.  18.2 18.4 18.6 18.8 19.  19.2 19.4 19.6 19.8 20.  20.2 20.4\n",
      " 20.6 20.8 21. ]\n"
     ]
    }
   ],
   "source": [
    "import numpy as np\n",
    "x = np.linspace(0,10,101)\n",
    "print(x)\n",
    "y = 2 * x + 1\n",
    "print(y)"
   ]
  },
  {
   "cell_type": "code",
   "execution_count": 45,
   "metadata": {},
   "outputs": [],
   "source": [
    "def f(x):\n",
    "    return (2*x**2) + (3*x) - 5\n",
    "# end function"
   ]
  },
  {
   "cell_type": "code",
   "execution_count": 46,
   "metadata": {},
   "outputs": [
    {
     "data": {
      "image/png": "[encoded data removed]",
      "text/plain": [
       "<Figure size 432x288 with 1 Axes>"
      ]
     },
     "metadata": {
      "needs_background": "light"
     },
     "output_type": "display_data"
    }
   ],
   "source": [
    "# plot y = 3x + 5\n",
    "\n",
    "# Import the necessary packages and modules\n",
    "import matplotlib.pyplot as plt\n",
    "import numpy as np\n",
    "\n",
    "# Prepare the data\n",
    "x = np.linspace(-10, 10, 101)\n",
    "#y = (x**2) + (3*x) + 5\n",
    "y = f(x)\n",
    "\n",
    "# Plot the data\n",
    "plt.plot(x, y, label='y = f(x)')\n",
    "\n",
    "# Add a legend\n",
    "plt.legend()\n",
    "\n",
    "# Show the plot\n",
    "plt.show()"
   ]
  },
  {
   "cell_type": "code",
   "execution_count": null,
   "metadata": {},
   "outputs": [],
   "source": []
  }
 ],
 "metadata": {
  "kernelspec": {
   "display_name": "Python 3",
   "language": "python",
   "name": "python3"
  },
  "language_info": {
   "codemirror_mode": {
    "name": "ipython",
    "version": 3
   },
   "file_extension": ".py",
   "mimetype": "text/x-python",
   "name": "python",
   "nbconvert_exporter": "python",
   "pygments_lexer": "ipython3",
   "version": "3.7.7"
  }
 },
 "nbformat": 4,
 "nbformat_minor": 4
}
