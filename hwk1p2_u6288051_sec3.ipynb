{
 "cells": [
  {
   "cell_type": "code",
   "execution_count": 7,
   "metadata": {},
   "outputs": [
    {
     "name": "stdout",
     "output_type": "stream",
     "text": [
      "Month 1 : 2005.0 Bath\n",
      "Month 2 : 4015.0125 Bath\n",
      "Month 3 : 6030.05003125 Bath\n",
      "Month 4 : 8050.125156328125 Bath\n",
      "Month 5 : 10075.250469218947 Bath\n",
      "Month 6 : 12105.438595391994 Bath\n",
      "Month 7 : 14140.702191880473 Bath\n",
      "Month 8 : 16181.053947360175 Bath\n",
      "Month 9 : 18226.506582228576 Bath\n",
      "Month 10 : 20277.072848684147 Bath\n",
      "Month 11 : 22332.765530805857 Bath\n",
      "Month 12 : 24393.597444632873 Bath\n"
     ]
    }
   ],
   "source": [
    "#Task 5\n",
    "salary = 0\n",
    "rate = 0.0025\n",
    "for i in range(1,13):\n",
    "    salary += 2000\n",
    "    salary += salary*(rate)\n",
    "    print(\"Month \" +str(i) + \" : \" + str(salary) + \" Bath\")"
   ]
  },
  {
   "cell_type": "code",
   "execution_count": 8,
   "metadata": {},
   "outputs": [
    {
     "name": "stdout",
     "output_type": "stream",
     "text": [
      "input first number\n",
      "123\n",
      "input second number\n",
      "2\n",
      "max of two number : 123 and 2 is 123\n",
      "The LCM of 123 and 2 is 246\n"
     ]
    }
   ],
   "source": [
    "#Task 6\n",
    "\n",
    "print('input first number')\n",
    "num1 = int(input())\n",
    "print('input second number')\n",
    "num2 = int(input())\n",
    "\n",
    "start = max(num1,num2)\n",
    "print('max of two number : {} and {} is {}' .format(num1,num2,start))\n",
    "\n",
    "end = 999\n",
    "for i in range(start,end):\n",
    "    if(i% num1==0) and (i%num2==0):\n",
    "        break;\n",
    "\n",
    "print('The LCM of {} and {} is {}'.format(num1,num2,i))"
   ]
  },
  {
   "cell_type": "code",
   "execution_count": 9,
   "metadata": {},
   "outputs": [
    {
     "name": "stdout",
     "output_type": "stream",
     "text": [
      "input first number\n",
      "52\n",
      "input second number\n",
      "123\n",
      "min of two number : 52 and 123 is 52\n",
      "The GCD of 52 and 123 is 1\n"
     ]
    }
   ],
   "source": [
    "#Task 7\n",
    "\n",
    "print('input first number')\n",
    "num1 = int(input())\n",
    "print('input second number')\n",
    "num2 = int(input())\n",
    "\n",
    "start = min(num1,num2)\n",
    "print('min of two number : {} and {} is {}' .format(num1,num2,start))\n",
    "\n",
    "end = 0\n",
    "for i in range(start,end,-1):\n",
    "    if(num1%i==0) and (num2%i==0):\n",
    "       break;\n",
    "\n",
    "print('The GCD of {} and {} is {}'.format(num1,num2,i))"
   ]
  },
  {
   "cell_type": "code",
   "execution_count": 10,
   "metadata": {},
   "outputs": [
    {
     "name": "stdout",
     "output_type": "stream",
     "text": [
      "input the number from (1-999)\n",
      "555\n",
      "555 is not a prime number\n"
     ]
    }
   ],
   "source": [
    "#Task 8\n",
    "\n",
    "print('input the number from (1-999)')\n",
    "num = int(input())\n",
    "count = 0\n",
    "for i in range(2,999):\n",
    "    if(num%i==0):\n",
    "        count += 1\n",
    "\n",
    "if(count==1):\n",
    "    print('{} is a prime number'.format(num))\n",
    "else:\n",
    "    print('{} is not a prime number'.format(num))"
   ]
  },
  {
   "cell_type": "code",
   "execution_count": 11,
   "metadata": {},
   "outputs": [
    {
     "name": "stdout",
     "output_type": "stream",
     "text": [
      "2.4495\n"
     ]
    }
   ],
   "source": [
    "#Task 9\n",
    "\n",
    "import math  \n",
    "\n",
    "print('%.4f'% (math.sqrt(6)))\n"
   ]
  },
  {
   "cell_type": "code",
   "execution_count": 12,
   "metadata": {},
   "outputs": [
    {
     "name": "stdout",
     "output_type": "stream",
     "text": [
      "i = 0, i^2 = 0\n",
      "i = 1, i^2 = 1\n",
      "i = 2, i^2 = 4\n",
      "i = 3, i^2 = 9\n",
      "We stop at i = 3\n",
      "test_value = 2.0, test_value^2 = 4.0\n",
      "test_value = 2.1, test_value^2 = 4.41\n",
      "test_value = 2.2, test_value^2 = 4.840000000000001\n",
      "test_value = 2.3, test_value^2 = 5.289999999999999\n",
      "test_value = 2.4, test_value^2 = 5.76\n",
      "test_value = 2.5, test_value^2 = 6.25\n",
      "We stop at test_value = 2.5\n",
      "test_value = 2.4, test_value^2 = 5.76\n",
      "test_value = 2.4099999999999997, test_value^2 = 5.808099999999999\n",
      "test_value = 2.42, test_value^2 = 5.8564\n",
      "test_value = 2.4299999999999997, test_value^2 = 5.904899999999999\n",
      "test_value = 2.44, test_value^2 = 5.9536\n",
      "test_value = 2.4499999999999997, test_value^2 = 6.002499999999999\n",
      "We stop at test_value = 2.4499999999999997\n",
      "test_value = 2.44, test_value^2 = 5.9536\n",
      "test_value = 2.441, test_value^2 = 5.958480999999999\n",
      "test_value = 2.4419999999999997, test_value^2 = 5.9633639999999986\n",
      "test_value = 2.443, test_value^2 = 5.968249\n",
      "test_value = 2.444, test_value^2 = 5.973135999999999\n",
      "test_value = 2.445, test_value^2 = 5.978024999999999\n",
      "test_value = 2.4459999999999997, test_value^2 = 5.982915999999999\n",
      "test_value = 2.447, test_value^2 = 5.987809\n",
      "test_value = 2.448, test_value^2 = 5.992704\n",
      "test_value = 2.449, test_value^2 = 5.9976009999999995\n",
      "test_value = 2.449, test_value^2 = 5.9976009999999995\n",
      "test_value = 2.4491, test_value^2 = 5.99809081\n",
      "test_value = 2.4492, test_value^2 = 5.998580639999999\n",
      "test_value = 2.4493, test_value^2 = 5.99907049\n",
      "test_value = 2.4494, test_value^2 = 5.999560359999999\n",
      "test_value = 2.4495, test_value^2 = 6.00005025\n",
      "We stop at test_value = 2.4495\n",
      "test_value = 2.4494, test_value^2 = 5.999560359999999\n",
      "test_value = 2.44941, test_value^2 = 5.999609348099999\n",
      "test_value = 2.44942, test_value^2 = 5.9996583364\n",
      "test_value = 2.44943, test_value^2 = 5.9997073249\n",
      "test_value = 2.4494399999999996, test_value^2 = 5.999756313599998\n",
      "test_value = 2.4494499999999997, test_value^2 = 5.999805302499999\n",
      "test_value = 2.4494599999999997, test_value^2 = 5.999854291599998\n",
      "test_value = 2.44947, test_value^2 = 5.999903280899999\n",
      "test_value = 2.44948, test_value^2 = 5.9999522704\n",
      "test_value = 2.44949, test_value^2 = 6.0000012600999995\n",
      "We stop at test_value = 2.44949\n",
      "test_value = 2.44948, test_value^2 = 5.9999522704\n",
      "test_value = 2.449481, test_value^2 = 5.999957169361\n",
      "test_value = 2.4494819999999997, test_value^2 = 5.999962068323999\n",
      "test_value = 2.449483, test_value^2 = 5.999966967289\n",
      "test_value = 2.449484, test_value^2 = 5.999971866256\n",
      "test_value = 2.4494849999999997, test_value^2 = 5.999976765224998\n",
      "test_value = 2.449486, test_value^2 = 5.9999816641959995\n",
      "test_value = 2.449487, test_value^2 = 5.999986563169\n",
      "test_value = 2.4494879999999997, test_value^2 = 5.999991462143998\n",
      "test_value = 2.449489, test_value^2 = 5.999996361120999\n",
      "test_value = 2.449489, test_value^2 = 5.999996361120999\n",
      "test_value = 2.4494890999999996, test_value^2 = 5.999996851018809\n",
      "test_value = 2.4494892, test_value^2 = 5.999997340916639\n",
      "test_value = 2.4494892999999998, test_value^2 = 5.999997830814489\n",
      "test_value = 2.4494893999999996, test_value^2 = 5.999998320712358\n",
      "test_value = 2.4494895, test_value^2 = 5.99999881061025\n",
      "test_value = 2.4494895999999997, test_value^2 = 5.999999300508159\n",
      "test_value = 2.4494897, test_value^2 = 5.99999979040609\n",
      "test_value = 2.4494898, test_value^2 = 6.0000002803040395\n",
      "We stop at test_value = 2.4494898\n",
      "The largest integer that has its square value closest to 6 is 2.4494897.\n",
      "epsilon-s = 0.005\n"
     ]
    }
   ],
   "source": [
    "#Task10\n",
    "import math\n",
    "\n",
    "N=10\n",
    "n = 6\n",
    "\n",
    "for i in range(0,N+1):\n",
    "    print('i = {}, i^2 = {}'.format(i,i**2))\n",
    "    if (i**2 > n):\n",
    "        x = i-1\n",
    "        print('We stop at i = {}'.format(i))\n",
    "        break;\n",
    "\n",
    "d = 7\n",
    "for d in range(1,d+1):\n",
    "    current_answer = x\n",
    "    for i in range(0,10):\n",
    "        test_value = current_answer + i/(10**d)\n",
    "        print('test_value = {}, test_value^2 = {}'.format(test_value,test_value**2))\n",
    "        if  (test_value**2>n):\n",
    "            x = test_value - 1/(10**d)\n",
    "            print('We stop at test_value = {}'.format(test_value))\n",
    "            break;\n",
    "        x = test_value\n",
    "\n",
    "print('The largest integer that has its square value closest to {} is {}.'.format(n,x))\n",
    "\n",
    "p = 4\n",
    "eps = 0.5 * 10**(2-p)\n",
    "print('epsilon-s = {}'.format(eps))\n",
    "\n",
    "ept = ((abs(math.sqrt(6)-x))/math.sqrt(6)) * 100\n",
    "prev_x = x\n",
    "epa = ((abs(x - prev_x))/x) * 100\n",
    "while(epa > eps):\n",
    "    ept = ((abs(math.sqrt(6)-x))/math.sqrt(6)) * 100\n",
    "    print('epsilon-t = {}'.format(ept))\n",
    "    prev_x = x\n",
    "    x = (1/2)*(x + n/x)\n",
    "    epa = ((abs(x - prev_x))/x) * 100\n",
    "    print('epsilon-a = {}'.format(epa))\n",
    "\n",
    "\n"
   ]
  },
  {
   "cell_type": "code",
   "execution_count": 14,
   "metadata": {},
   "outputs": [
    {
     "name": "stdout",
     "output_type": "stream",
     "text": [
      "Input a binary number:\n",
      "1001\n",
      "The decimal value of the number is 9\n",
      "Input a decimal number\n",
      "3210\n",
      "The binary representation is 110010001010\n"
     ]
    }
   ],
   "source": [
    "#Task 11\n",
    "\n",
    "def bin_to_dec():\n",
    "    print('Input a binary number:')\n",
    "    binary_number = list(input())\n",
    "    value = 0\n",
    "\n",
    "    for i in range(len(binary_number)):\n",
    "        digit = binary_number.pop()\n",
    "        if digit == '1':\n",
    "            value = value + pow(2, i)\n",
    "    print(\"The decimal value of this number is\", value)\n",
    "\n",
    "def dec_to_bin():\n",
    "    print('Input a decimal number')\n",
    "    number = int(input())\n",
    "    result = ''\n",
    "    while number != 0:\n",
    "        remainder = number % 2\n",
    "        number = number // 2\n",
    "        result = str(remainder) + result\n",
    "    print(\"The binary number of this number is\", result)\n",
    "    \n",
    "bin_to_dec()\n",
    "dec_to_bin()"
   ]
  },
  {
   "cell_type": "code",
   "execution_count": 5,
   "metadata": {},
   "outputs": [
    {
     "name": "stdout",
     "output_type": "stream",
     "text": [
      "Please input your number \n",
      "6\n",
      "the value of the cube root of 6 is 2.44949\n"
     ]
    }
   ],
   "source": [
    "#Task 12.1\n",
    "\n",
    "print('input your number ')\n",
    "number = int(input())\n",
    "\n",
    "x = 1.0\n",
    "for i in range (0,number):\n",
    "    x = (x+number/x)/2\n",
    "\n",
    "print('The value of the cube root of %d is %.5f' %(number,x))"
   ]
  },
  {
   "cell_type": "code",
   "execution_count": 6,
   "metadata": {},
   "outputs": [
    {
     "name": "stdout",
     "output_type": "stream",
     "text": [
      "Please input your number \n",
      "7\n",
      "the value of the cube root of 7 is 1.91330\n"
     ]
    }
   ],
   "source": [
    "#Task 12.2\n",
    "\n",
    "print('input your number ')\n",
    "number = int(input())\n",
    "\n",
    "x = 1.0\n",
    "for i in range (0,number):\n",
    "    x = (3*x+number/(x*x))/4\n",
    "    \n",
    "print('The value of the cube root of %d is %.5f' %(number,x))"
   ]
  },
  {
   "cell_type": "code",
   "execution_count": 17,
   "metadata": {},
   "outputs": [
    {
     "name": "stdout",
     "output_type": "stream",
     "text": [
      "The IEEE 754 form of 0.096 is 0 01111011 10001001001101110100101\n"
     ]
    }
   ],
   "source": [
    "#Task 12.3\n",
    "\n",
    "#Converting decimal to IEEE 754\n",
    "\n",
    "def dec_to_bin(number):\n",
    "    temp = ''\n",
    "    array =[]\n",
    "    i=0\n",
    "    while (number>0):\n",
    "        a = number%2\n",
    "        array.append(a)\n",
    "        number = number//2\n",
    "    array.reverse()\n",
    "    for i in range(0, len(array)):\n",
    "        temp += str(array[i])\n",
    "    return temp\n",
    "        \n",
    "\n",
    "def float_to_bin(number):\n",
    "    temp = ''\n",
    "    # rounding things to the 23rd digit\n",
    "    for i in range(0,23):\n",
    "        number = number*2\n",
    "        keep= str(number).split(\".\", 1)\n",
    "        temp += keep[0]\n",
    "        if (number>=1):\n",
    "            number = number-1\n",
    "        if (int(keep[1])==0):\n",
    "            break\n",
    "    return '0.'+temp\n",
    "\n",
    "x = 0.096\n",
    "sign = 0\n",
    "i = -1\n",
    "if (x<0):\n",
    "    sign = 1\n",
    "    \n",
    "# Using b to check whether a is less than 1 or not\n",
    "b = 0\n",
    "while(b<=1):\n",
    "    b = x/(2**(i))\n",
    "    i = i-1\n",
    "expo = i+1+127\n",
    "string_expo = dec_to_bin(123)\n",
    "zero = ''\n",
    "if (len(string_expo)!=8):\n",
    "    count = 8-len(string_expo)\n",
    "    for i in range(0,count):\n",
    "        zero += '0'\n",
    "fraction = b-1.00\n",
    "string_fraction = str(float_to_bin(fraction)).split(\".\",1)\n",
    "print(\"The IEEE 754 form of 0.096 is \"+str(sign) + \" \" + zero + string_expo + \" \" + string_fraction[1])\n"
   ]
  },
  {
   "cell_type": "code",
   "execution_count": 18,
   "metadata": {},
   "outputs": [
    {
     "name": "stdout",
     "output_type": "stream",
     "text": [
      "input your sign:\n",
      "4\n",
      "input your exponent: \n",
      "3\n",
      "input your fraction: \n",
      "2\n",
      "The answer is 1.410593220986745e-37.\n"
     ]
    }
   ],
   "source": [
    "#Task 12.3\n",
    "\n",
    "#Converting IEEE form to decimal\n",
    "print('input your sign:')\n",
    "sign = int(input())\n",
    "print('input your exponent: ')\n",
    "exponent = int(input())\n",
    "print('input your fraction: ')\n",
    "fraction = float(input())\n",
    "answer = ((-1)**(sign))*(1+fraction)*(2**(exponent-127))\n",
    "print('The answer is {}.'.format(answer))"
   ]
  }
 ],
 "metadata": {
  "kernelspec": {
   "display_name": "Python 3",
   "language": "python",
   "name": "python3"
  },
  "language_info": {
   "codemirror_mode": {
    "name": "ipython",
    "version": 3
   },
   "file_extension": ".py",
   "mimetype": "text/x-python",
   "name": "python",
   "nbconvert_exporter": "python",
   "pygments_lexer": "ipython3",
   "version": "3.8.3"
  }
 },
 "nbformat": 4,
 "nbformat_minor": 4
}
