{
 "cells": [
  {
   "cell_type": "code",
   "execution_count": 1,
   "metadata": {},
   "outputs": [],
   "source": [
    "import numpy as np\n",
    "import math"
   ]
  },
  {
   "cell_type": "code",
   "execution_count": 2,
   "metadata": {},
   "outputs": [],
   "source": [
    "def f(x):\n",
    "    return (-1)*(x**2)+(3*x)+2\n",
    "#end function"
   ]
  },
  {
   "cell_type": "code",
   "execution_count": 3,
   "metadata": {},
   "outputs": [],
   "source": [
    "def interval_search_max(f,a,b,p):\n",
    "    es = 0.5 * (10**(2-p))\n",
    "    ea = 100\n",
    "    prev_xmax = b\n",
    "    \n",
    "    i = 1\n",
    "    while (ea > es):\n",
    "        epsilon = (a+b)/10\n",
    "        xmid = (a+b)/2\n",
    "        alpha = xmid - (epsilon/2)\n",
    "        beta = xmid + (epsilon/2)\n",
    "        if (f(beta) > f(alpha)):\n",
    "            # [a,b] = [alpha,b]\n",
    "            a = alpha\n",
    "            # b = b\n",
    "            xmax = (a+b)/2\n",
    "        else:\n",
    "            # [a,b] = [a,beta]\n",
    "            # a = a\n",
    "            b = beta\n",
    "            xmax = (a+b)/2\n",
    "        #end if\n",
    "        ea = abs((xmax - prev_xmax)/xmax) * 100\n",
    "        print('Iteration #{}: [a,b] = [{},{}], xmax = {}, ea = {}'.format(i,a,b,xmax,ea))\n",
    "        prev_xmax = xmax\n",
    "        i += 1\n",
    "    #end while\n",
    "#end function\n",
    "            "
   ]
  },
  {
   "cell_type": "code",
   "execution_count": 4,
   "metadata": {},
   "outputs": [
    {
     "name": "stdout",
     "output_type": "stream",
     "text": [
      "Iteration #1: [a,b] = [0.5,1.925], xmax = 1.2125, ea = 147.42268041237114\n",
      "Iteration #2: [a,b] = [1.0912499999999998,1.925], xmax = 1.508125, ea = 19.602154993783675\n",
      "Iteration #3: [a,b] = [1.0912499999999998,1.6589375], xmax = 1.37509375, ea = 9.674340385882777\n",
      "Iteration #4: [a,b] = [1.237584375,1.6589375], xmax = 1.4482609375, ea = 5.052072151189948\n",
      "Iteration #5: [a,b] = [1.3034348437499998,1.6589375], xmax = 1.481186171875, ea = 2.222896419112571\n",
      "Iteration #6: [a,b] = [1.3330675546875,1.6589375], xmax = 1.4960025273437498, ea = 0.9903964196542727\n",
      "Iteration #7: [a,b] = [1.346402274609375,1.6589375], xmax = 1.5026698873046875, ea = 0.4437009097784496\n",
      "Iteration #8: [a,b] = [1.346402274609375,1.6529368760351564], xmax = 1.4996695753222657, ea = 0.20006486974152607\n",
      "Iteration #9: [a,b] = [1.349702617790039,1.6529368760351564], xmax = 1.5013197469125976, ea = 0.10991473293583079\n",
      "Iteration #10: [a,b] = [1.349702617790039,1.6514517216038573], xmax = 1.5005771696969483, ea = 0.049486106455909014\n",
      "Iteration #11: [a,b] = [1.349702617790039,1.6506348866666432], xmax = 1.5001687522283411, ea = 0.027224768413589614\n",
      "Iteration #12: [a,b] = [1.349702617790039,1.6501856274511753], xmax = 1.4999441226206072, ea = 0.014975865056992381\n",
      "Iteration #13: [a,b] = [1.3499497103585465,1.6501856274511753], xmax = 1.5000676689048609, ea = 0.008236047400708412\n",
      "Iteration #14: [a,b] = [1.3499497103585465,1.650074435795347], xmax = 1.5000120730769466, ea = 0.0037063586961812826\n"
     ]
    }
   ],
   "source": [
    "a = 0.5\n",
    "b = 3.0\n",
    "p = 4\n",
    "interval_search_max(f, a, b, p)"
   ]
  },
  {
   "cell_type": "code",
   "execution_count": 5,
   "metadata": {},
   "outputs": [],
   "source": [
    "def golden_min(f,xl,xu,p):\n",
    "    es = 0.5 * (10**(2-p))\n",
    "    ea = 100\n",
    "    #prev_xmin = xu\n",
    "    i = 1\n",
    "    phi = (1+math.sqrt(5))/2\n",
    "    \n",
    "    while (ea > es):\n",
    "        d = (phi - 1)*(xu - xl)\n",
    "        x1 = xl + d\n",
    "        x2 = xu - d\n",
    "        if (f(x1) > f(x2)):\n",
    "            #[xl,xu] = [xl,x1]\n",
    "            # xl = xl\n",
    "            xu = x1\n",
    "            xmin = x2\n",
    "        else:\n",
    "            #[xl,xu] = [x2,xu]\n",
    "            # xu = xu\n",
    "            xl = x2\n",
    "            xmin = x1\n",
    "        #end if\n",
    "        ea = (2 - phi)*abs((xu-xl)/xmin)*100\n",
    "        print('Iteration #{}: [xl,xu] = [{},{}], xmin = {}, ea = {}'.format(i,xl,xu,xmin,ea))\n",
    "        i += 1\n",
    "    #end while\n",
    "#end function\n",
    "            "
   ]
  },
  {
   "cell_type": "code",
   "execution_count": 6,
   "metadata": {},
   "outputs": [],
   "source": [
    "def f(x):\n",
    "    return (x**5)-(3*(x**4))+5\n",
    "#end function"
   ]
  },
  {
   "cell_type": "code",
   "execution_count": 7,
   "metadata": {},
   "outputs": [
    {
     "name": "stdout",
     "output_type": "stream",
     "text": [
      "Iteration #1: [xl,xu] = [2.0,2.618033988749895], xmin = 2.381966011250105, ea = 9.910635852267948\n",
      "Iteration #2: [xl,xu] = [2.23606797749979,2.618033988749895], xmin = 2.381966011250105, ea = 6.125109806824871\n",
      "Iteration #3: [xl,xu] = [2.23606797749979,2.4721359549995796], xmin = 2.381966011250105, ea = 3.785526045443076\n",
      "Iteration #4: [xl,xu] = [2.326237921249264,2.4721359549995796], xmin = 2.3819660112501055, ea = 2.3395837613818027\n",
      "Iteration #5: [xl,xu] = [2.381966011250105,2.4721359549995796], xmin = 2.4164078649987384, ea = 1.4253327944970544\n",
      "Iteration #6: [xl,xu] = [2.381966011250105,2.4376941012509463], xmin = 2.4164078649987384, ea = 0.880904112279046\n",
      "Iteration #7: [xl,xu] = [2.381966011250105,2.416407864998738], xmin = 2.4032522475023135, ea = 0.5474089334607855\n",
      "Iteration #8: [xl,xu] = [2.39512162874653,2.416407864998738], xmin = 2.403252247502313, ea = 0.33831732662409275\n",
      "Iteration #9: [xl,xu] = [2.39512162874653,2.4082772462429545], xmin = 2.4032522475023135, ea = 0.20909160683668554\n",
      "Iteration #10: [xl,xu] = [2.39512162874653,2.403252247502313], xmin = 2.4001466274871714, ea = 0.12939292873090663\n",
      "Iteration #11: [xl,xu] = [2.3982272487616716,2.403252247502313], xmin = 2.4001466274871714, ea = 0.07996922785959547\n",
      "Iteration #12: [xl,xu] = [2.3982272487616716,2.4013328687768136], xmin = 2.400146627487171, ea = 0.049423700871318234\n",
      "Iteration #13: [xl,xu] = [2.3994134900513138,2.4013328687768136], xmin = 2.4001466274871714, ea = 0.030545526988284312\n",
      "Iteration #14: [xl,xu] = [2.3994134900513138,2.400599731340956], xmin = 2.4001466274871714, ea = 0.01887817388303392\n",
      "Iteration #15: [xl,xu] = [2.3994134900513138,2.400146627487171], xmin = 2.3998665939050987, ea = 0.011668714535371012\n",
      "Iteration #16: [xl,xu] = [2.3996935236333865,2.400146627487171], xmin = 2.3998665939050983, ea = 0.007211662187875742\n",
      "Iteration #17: [xl,xu] = [2.3998665939050987,2.400146627487171], xmin = 2.399973557215459, ea = 0.004456853703185601\n"
     ]
    }
   ],
   "source": [
    "xl = 2.0\n",
    "xu = 3.0\n",
    "p = 4\n",
    "golden_min(f,xl,xu,p)"
   ]
  },
  {
   "cell_type": "code",
   "execution_count": 16,
   "metadata": {},
   "outputs": [],
   "source": [
    "def parabolic_max(f,x1,x2,x3,p):\n",
    "    es = 0.5 * (10**(2-p))\n",
    "    ea = 100\n",
    "    prev_xmax = x2\n",
    "    i = 1\n",
    "    \n",
    "    while (ea > es):\n",
    "        alpha1 = (x2-x1)*(x2-x1)*(f(x2)-f(x3))\n",
    "        alpha2 = (x2-x3)*(x2-x3)*(f(x2)-f(x1))\n",
    "        beta1 = (x2-x1)*(f(x2)-f(x3))\n",
    "        beta2 = (x2-x3)*(f(x2)-f(x1))\n",
    "        gamma = (alpha1 - alpha2)/(beta1 - beta2)\n",
    "\n",
    "        x4 = x2 - (0.5 * gamma)\n",
    "        \n",
    "        if (x4 < x2):\n",
    "            # [x1,x2,x3] = [x1,x4,x2]\n",
    "            x3 = x2\n",
    "            x2 = x4\n",
    "            xmax = x4\n",
    "        else:\n",
    "            # [x1,x2,x3] = [x2,x4,x3]\n",
    "            x1 = x2\n",
    "            x2 = x4\n",
    "            xmax = x4\n",
    "        #end if\n",
    "        print('Iteration #{}: x4 = {}'.format(i,x4))\n",
    "        ea = abs((xmax - prev_xmax)/xmax)*100\n",
    "        print('Iteration #{}: [x1,x2,x3] = [{},{},{}], xmax = {}, ea = {}'.format(i,x1,x2,x3,xmax,ea))\n",
    "        prev_xmax = xmax\n",
    "        i += 1\n",
    "    #end while\n",
    "#end function"
   ]
  },
  {
   "cell_type": "code",
   "execution_count": 17,
   "metadata": {},
   "outputs": [],
   "source": [
    "def f(x):\n",
    "    return x*(1-x)*(math.e**x)\n",
    "#end function"
   ]
  },
  {
   "cell_type": "code",
   "execution_count": 19,
   "metadata": {},
   "outputs": [
    {
     "name": "stdout",
     "output_type": "stream",
     "text": [
      "Iteration #1: x4 = 0.5\n",
      "Iteration #1: [x1,x2,x3] = [0.2,0.5,1.0], xmax = 0.5, ea = 60.0\n",
      "Iteration #2: x4 = 0.5368327171139073\n",
      "Iteration #2: [x1,x2,x3] = [0.5,0.5368327171139073,1.0], xmax = 0.5368327171139073, ea = 6.8611163104822515\n",
      "Iteration #3: x4 = 0.5883803622023188\n",
      "Iteration #3: [x1,x2,x3] = [0.5368327171139073,0.5883803622023188,1.0], xmax = 0.5883803622023188, ea = 8.760939079521224\n",
      "Iteration #4: x4 = 0.6010545743538414\n",
      "Iteration #4: [x1,x2,x3] = [0.5883803622023188,0.6010545743538414,1.0], xmax = 0.6010545743538414, ea = 2.1086624563414795\n",
      "Iteration #5: x4 = 0.6108803743131295\n",
      "Iteration #5: [x1,x2,x3] = [0.6010545743538414,0.6108803743131295,1.0], xmax = 0.6108803743131295, ea = 1.6084654823517932\n",
      "Iteration #6: x4 = 0.6143144583543685\n",
      "Iteration #6: [x1,x2,x3] = [0.6108803743131295,0.6143144583543685,1.0], xmax = 0.6143144583543685, ea = 0.559010779339017\n",
      "Iteration #7: x4 = 0.6163565108585172\n",
      "Iteration #7: [x1,x2,x3] = [0.6143144583543685,0.6163565108585172,1.0], xmax = 0.6163565108585172, ea = 0.3313102836058839\n",
      "Iteration #8: x4 = 0.6172006181612103\n",
      "Iteration #8: [x1,x2,x3] = [0.6163565108585172,0.6172006181612103,1.0], xmax = 0.6172006181612103, ea = 0.1367638459611286\n",
      "Iteration #9: x4 = 0.6176461680929362\n",
      "Iteration #9: [x1,x2,x3] = [0.6172006181612103,0.6176461680929362,1.0], xmax = 0.6176461680929362, ea = 0.07213675964372074\n",
      "Iteration #10: x4 = 0.6178453318014033\n",
      "Iteration #10: [x1,x2,x3] = [0.6176461680929362,0.6178453318014033,1.0], xmax = 0.6178453318014033, ea = 0.032235204866967265\n",
      "Iteration #11: x4 = 0.6179449245636867\n",
      "Iteration #11: [x1,x2,x3] = [0.6178453318014033,0.6179449245636867,1.0], xmax = 0.6179449245636867, ea = 0.016116770010474457\n",
      "Iteration #12: x4 = 0.6179910799243631\n",
      "Iteration #12: [x1,x2,x3] = [0.6179449245636867,0.6179910799243631,1.0], xmax = 0.6179910799243631, ea = 0.007468612764131541\n",
      "Iteration #13: x4 = 0.618013598134493\n",
      "Iteration #13: [x1,x2,x3] = [0.6179910799243631,0.618013598134493,1.0], xmax = 0.618013598134493, ea = 0.003643643149253881\n"
     ]
    }
   ],
   "source": [
    "x1 = 0.0\n",
    "x2 = 0.2\n",
    "x3 = 1.0\n",
    "p = 4\n",
    "parabolic_max(f,x1,x2,x3,p)"
   ]
  },
  {
   "cell_type": "code",
   "execution_count": 23,
   "metadata": {},
   "outputs": [],
   "source": [
    "def parabolic(f,x1,x2,x3,p):\n",
    "    es = 0.5 * (10**(2-p))\n",
    "    ea = 100\n",
    "    prev_xopt = x2\n",
    "    i = 1\n",
    "    \n",
    "    while (ea > es):\n",
    "        alpha1 = (x2-x1)*(x2-x1)*(f(x2)-f(x3))\n",
    "        alpha2 = (x2-x3)*(x2-x3)*(f(x2)-f(x1))\n",
    "        beta1 = (x2-x1)*(f(x2)-f(x3))\n",
    "        beta2 = (x2-x3)*(f(x2)-f(x1))\n",
    "        gamma = (alpha1 - alpha2)/(beta1 - beta2)\n",
    "\n",
    "        x4 = x2 - (0.5 * gamma)\n",
    "        \n",
    "        if (x4 < x2):\n",
    "            # [x1,x2,x3] = [x1,x4,x2]\n",
    "            x3 = x2\n",
    "            x2 = x4\n",
    "            xopt = x4\n",
    "        else:\n",
    "            # [x1,x2,x3] = [x2,x4,x3]\n",
    "            x1 = x2\n",
    "            x2 = x4\n",
    "            xopt = x4\n",
    "        #end if\n",
    "        print('Iteration #{}: x4 = {}'.format(i,x4))\n",
    "        ea = abs((xopt - prev_xopt)/xopt)*100\n",
    "        print('Iteration #{}: [x1,x2,x3] = [{},{},{}], xopt = {}, ea = {}'.format(i,x1,x2,x3,xopt,ea))\n",
    "        prev_xopt = xopt\n",
    "        i += 1\n",
    "    #end while\n",
    "#end function"
   ]
  },
  {
   "cell_type": "code",
   "execution_count": 24,
   "metadata": {},
   "outputs": [],
   "source": [
    "def f(x):\n",
    "    return ((x**2)/10)-(2*math.sin(x))\n",
    "#end function"
   ]
  },
  {
   "cell_type": "code",
   "execution_count": 27,
   "metadata": {},
   "outputs": [
    {
     "name": "stdout",
     "output_type": "stream",
     "text": [
      "Iteration #1: x4 = -4.253955002907561\n",
      "Iteration #1: [x1,x2,x3] = [-4.8,-4.253955002907561,-3.8], xopt = -4.253955002907561, ea = 12.836172378862013\n",
      "Iteration #2: x4 = -4.253891858531025\n",
      "Iteration #2: [x1,x2,x3] = [-4.253955002907561,-4.253891858531025,-3.8], xopt = -4.253891858531025, ea = 0.0014843907328980683\n"
     ]
    }
   ],
   "source": [
    "x1 = -6.0\n",
    "x2 = -4.8\n",
    "x3 = -3.8\n",
    "p = 4\n",
    "parabolic(f,x1,x2,x3,p)"
   ]
  },
  {
   "cell_type": "code",
   "execution_count": 26,
   "metadata": {},
   "outputs": [
    {
     "name": "stdout",
     "output_type": "stream",
     "text": [
      "Iteration #1: x4 = -2.0254708475604257\n",
      "Iteration #1: [x1,x2,x3] = [-4.0,-2.0254708475604257,-1.1], xopt = -2.0254708475604257, ea = 45.6916399796673\n",
      "Iteration #2: x4 = -1.9020412388754675\n",
      "Iteration #2: [x1,x2,x3] = [-2.0254708475604257,-1.9020412388754675,-1.1], xopt = -1.9020412388754675, ea = 6.489323478492652\n",
      "Iteration #3: x4 = -1.7505085990123115\n",
      "Iteration #3: [x1,x2,x3] = [-1.9020412388754675,-1.7505085990123115,-1.1], xopt = -1.7505085990123115, ea = 8.656492173112158\n",
      "Iteration #4: x4 = -1.7473485896597645\n",
      "Iteration #4: [x1,x2,x3] = [-1.7505085990123115,-1.7473485896597645,-1.1], xopt = -1.7473485896597645, ea = 0.18084596120355773\n",
      "Iteration #5: x4 = -1.7463388647149125\n",
      "Iteration #5: [x1,x2,x3] = [-1.7473485896597645,-1.7463388647149125,-1.1], xopt = -1.7463388647149125, ea = 0.05781953120632177\n",
      "Iteration #6: x4 = -1.7463310769688711\n",
      "Iteration #6: [x1,x2,x3] = [-1.7463388647149125,-1.7463310769688711,-1.1], xopt = -1.7463310769688711, ea = 0.00044594900383345136\n"
     ]
    }
   ],
   "source": [
    "x1 = -4.0\n",
    "x2 = -1.1\n",
    "x3 = -0.1\n",
    "p = 4\n",
    "parabolic(f,x1,x2,x3,p)"
   ]
  },
  {
   "cell_type": "code",
   "execution_count": null,
   "metadata": {},
   "outputs": [],
   "source": []
  }
 ],
 "metadata": {
  "kernelspec": {
   "display_name": "Python 3",
   "language": "python",
   "name": "python3"
  },
  "language_info": {
   "codemirror_mode": {
    "name": "ipython",
    "version": 3
   },
   "file_extension": ".py",
   "mimetype": "text/x-python",
   "name": "python",
   "nbconvert_exporter": "python",
   "pygments_lexer": "ipython3",
   "version": "3.7.7"
  }
 },
 "nbformat": 4,
 "nbformat_minor": 4
}
