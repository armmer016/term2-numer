{
 "cells": [
  {
   "cell_type": "markdown",
   "metadata": {},
   "source": [
    "<h2>Task 1</h2>\n",
    "<h3>Evaluate the value of e^0.2 and write a program to perform this calculation.</h3>"
   ]
  },
  {
   "cell_type": "code",
   "execution_count": 9,
   "metadata": {},
   "outputs": [
    {
     "name": "stdout",
     "output_type": "stream",
     "text": [
      "1.2214027581601696\n"
     ]
    }
   ],
   "source": [
    "import math\n",
    "d = 30\n",
    "x = 0.2\n",
    "sum = 0\n",
    "for n in range(0, d):\n",
    "    sum += x**(n) / math.factorial(n)\n",
    "print(sum)"
   ]
  },
  {
   "cell_type": "code",
   "execution_count": 10,
   "metadata": {},
   "outputs": [
    {
     "name": "stdout",
     "output_type": "stream",
     "text": [
      "1.2214027581601699\n"
     ]
    }
   ],
   "source": [
    "#check is equal\n",
    "print(math.e**0.2)"
   ]
  },
  {
   "cell_type": "markdown",
   "metadata": {},
   "source": [
    "<h2>Task 2</h2>\n",
    "<h3>Evaluate the value of ln(0.2) and ln(4.7)</h3>\n",
    "<h4>#task2.1 : find ln(0.2)</h4>"
   ]
  },
  {
   "cell_type": "code",
   "execution_count": 11,
   "metadata": {},
   "outputs": [
    {
     "name": "stdout",
     "output_type": "stream",
     "text": [
      "-1.3612704074735422e+244\n"
     ]
    }
   ],
   "source": [
    "#task2.1\n",
    "d = 120\n",
    "x = 113.67\n",
    "sum = 0\n",
    "for n in range(0, d):\n",
    "    sum += ((-1)**(n)) * ((x-1)**(n+1)) / (n+1)\n",
    "print(sum)"
   ]
  },
  {
   "cell_type": "code",
   "execution_count": 12,
   "metadata": {},
   "outputs": [
    {
     "data": {
      "text/plain": [
       "4.733299513698619"
      ]
     },
     "execution_count": 12,
     "metadata": {},
     "output_type": "execute_result"
    }
   ],
   "source": [
    "#check is equal\n",
    "import numpy as np\n",
    "np.log(113.67)"
   ]
  },
  {
   "cell_type": "markdown",
   "metadata": {},
   "source": [
    "<h4>#task2.2 : find ln(4.7)</h4>"
   ]
  },
  {
   "cell_type": "code",
   "execution_count": 19,
   "metadata": {},
   "outputs": [
    {
     "name": "stdout",
     "output_type": "stream",
     "text": [
      "1\n",
      "2\n",
      "3\n",
      "4\n",
      "5\n",
      "4.765902435386045\n",
      "4.738501600506953\n",
      "4.734225288031229\n",
      "4.733474482279159\n",
      "4.733333872840713\n",
      "4.733306442568127\n",
      "4.733300938545263\n",
      "4.733299811126708\n",
      "4.733299576525874\n",
      "4.733299527098339\n",
      "4.73329951657937\n",
      "4.73329951432211\n",
      "4.733299513834339\n",
      "4.7332995137283085\n",
      "4.733299513705142\n",
      "4.733299513700058\n",
      "4.733299513698938\n",
      "4.73329951369869\n",
      "4.733299513698635\n",
      "4.733299513698623\n",
      "4.73329951369862\n",
      "4.733299513698619\n",
      "4.733299513698619\n",
      "4.733299513698619\n",
      "4.733299513698619\n",
      "4.733299513698619\n",
      "4.733299513698619\n",
      "4.733299513698619\n",
      "4.733299513698619\n",
      "4.733299513698619\n",
      "result is 4.733299513698619\n"
     ]
    }
   ],
   "source": [
    "#task2.2\n",
    "x = 113.67\n",
    "d = 30\n",
    "sum = 0\n",
    "temp = 0\n",
    "\n",
    "while (x>2):\n",
    "    x/=math.e\n",
    "    temp+=1\n",
    "    print(temp)\n",
    "    \n",
    "for n in range(0, d):\n",
    "    sum += ((-1)**(n)) * ((x-1)**(n+1)) / (n+1)\n",
    "    print(sum+temp)\n",
    "    \n",
    "print(f'result is {sum+temp}')"
   ]
  },
  {
   "cell_type": "code",
   "execution_count": 17,
   "metadata": {},
   "outputs": [
    {
     "data": {
      "text/plain": [
       "1.547562508716013"
      ]
     },
     "execution_count": 17,
     "metadata": {},
     "output_type": "execute_result"
    }
   ],
   "source": [
    "#check is equal\n",
    "math.log(4.7)"
   ]
  },
  {
   "cell_type": "markdown",
   "metadata": {},
   "source": [
    "<h2>Task 3</h2>\n",
    "<h3>Evaluate the value of log2(10), sin(60 degrees), arctan(0.4), and ln(0.6)</h3>\n",
    "<h4>task3.1 : find log2(10)"
   ]
  },
  {
   "cell_type": "code",
   "execution_count": 31,
   "metadata": {},
   "outputs": [
    {
     "name": "stdout",
     "output_type": "stream",
     "text": [
      "3.3219280948873617\n"
     ]
    }
   ],
   "source": [
    "#task 3.1\n",
    "'''\n",
    "log2(10) = ln(10) / ln(2)\n",
    "'''\n",
    "def getLogBase2(value):\n",
    "    #ln(10)\n",
    "    x = value\n",
    "    d = 30\n",
    "    base10 = 0\n",
    "    base2 = 0\n",
    "    temp = 0\n",
    "    while (x>2):\n",
    "        x/=math.e\n",
    "        temp+=1\n",
    "    for n in range(0, d):\n",
    "        base10 += ((-1)**(n)) * ((x-1)**(n+1)) / (n+1)\n",
    "    base10 += temp\n",
    "    \n",
    "    #ln(2)\n",
    "    x = 2\n",
    "    temp = 0\n",
    "    while (x>1.999999):\n",
    "        x/=math.e\n",
    "        temp+=1\n",
    "    for n in range(0, d):\n",
    "        base2 += ((-1)**(n)) * ((x-1)**(n+1)) / (n+1)\n",
    "    base2 += temp\n",
    "    \n",
    "    return base10/base2\n",
    "\n",
    "print(getLogBase2(10))"
   ]
  },
  {
   "cell_type": "code",
   "execution_count": 28,
   "metadata": {},
   "outputs": [
    {
     "data": {
      "text/plain": [
       "3.321928094887362"
      ]
     },
     "execution_count": 28,
     "metadata": {},
     "output_type": "execute_result"
    }
   ],
   "source": [
    "#check is equal\n",
    "math.log2(10)"
   ]
  },
  {
   "cell_type": "markdown",
   "metadata": {},
   "source": [
    "<h4>task3.2 : find Sin(60)</h4>"
   ]
  },
  {
   "cell_type": "code",
   "execution_count": 48,
   "metadata": {},
   "outputs": [
    {
     "name": "stdout",
     "output_type": "stream",
     "text": [
      "sin(60) : 0.8660254037844385\n",
      "0.8660254037844386\n"
     ]
    }
   ],
   "source": [
    "import math\n",
    "#task 3.2\n",
    "x = 60*(math.pi/180)\n",
    "d = 30\n",
    "sum = 0\n",
    "   \n",
    "for n in range(0, d):\n",
    "    sum += (((-1)**(n)) * ((x)**((2*n)+1))) / math.factorial((2*n)+1)\n",
    "print(f'sin(60) : {sum}')\n",
    "\n",
    "#check is equal\n",
    "print(np.sin(60*(math.pi/180)))"
   ]
  },
  {
   "cell_type": "markdown",
   "metadata": {},
   "source": [
    "<h4>task3.3 : find arctan(0.4)</h4>"
   ]
  },
  {
   "cell_type": "code",
   "execution_count": 44,
   "metadata": {},
   "outputs": [
    {
     "name": "stdout",
     "output_type": "stream",
     "text": [
      "0.380506377112365\n"
     ]
    }
   ],
   "source": [
    "#task 3.3\n",
    "x = 0.4\n",
    "d = 30\n",
    "sum = 0\n",
    "   \n",
    "for n in range(0, d):\n",
    "    sum += (((-1)**(n)) * ((x)**((2*n)+1))) / ((2*n)+1)\n",
    "print(sum)"
   ]
  },
  {
   "cell_type": "code",
   "execution_count": 45,
   "metadata": {},
   "outputs": [
    {
     "data": {
      "text/plain": [
       "0.3805063771123649"
      ]
     },
     "execution_count": 45,
     "metadata": {},
     "output_type": "execute_result"
    }
   ],
   "source": [
    "#check is equal\n",
    "np.arctan(0.4)"
   ]
  },
  {
   "cell_type": "markdown",
   "metadata": {},
   "source": [
    "<h4>task3.4 : find ln(0.6)</h4>"
   ]
  },
  {
   "cell_type": "code",
   "execution_count": 47,
   "metadata": {},
   "outputs": [
    {
     "name": "stdout",
     "output_type": "stream",
     "text": [
      "-0.5108256237659666\n"
     ]
    }
   ],
   "source": [
    "#task3.4\n",
    "x = 0.6\n",
    "d = 30\n",
    "sum = 0\n",
    "for n in range(0, d):\n",
    "    sum += ((-1)**(n)) * ((x-1)**(n+1)) / (n+1)\n",
    "print(sum)"
   ]
  },
  {
   "cell_type": "code",
   "execution_count": 13,
   "metadata": {},
   "outputs": [
    {
     "data": {
      "text/plain": [
       "-0.5108256237659907"
      ]
     },
     "execution_count": 13,
     "metadata": {},
     "output_type": "execute_result"
    }
   ],
   "source": [
    "#check is equal\n",
    "numpy.log(0.6)"
   ]
  },
  {
   "cell_type": "markdown",
   "metadata": {},
   "source": [
    "<h2>Task 4</h2>\n",
    "<h3>Plot the following functions</h3>\n",
    "<ul>\n",
    "    <li>𝑓(𝑥) = 𝑥^2 − 2𝑥 − 3</li>\n",
    "    <li>𝑓(𝑥) = sin 10𝑥 + cos (3𝑥)</li>\n",
    "    <li>𝑓(𝑥) = sin 2𝜋𝑥 + 𝑒^2x + 𝑥 − 2.5</li>\n",
    "</ul>\n",
    "<i>given point of 𝑓(𝑥) = 0</i><br>\n",
    "<h4>task4.1</h4>\n"
   ]
  },
  {
   "cell_type": "code",
   "execution_count": 51,
   "metadata": {},
   "outputs": [
    {
     "data": {
      "image/png": "[encoded data removed]",
      "text/plain": [
       "<Figure size 432x288 with 1 Axes>"
      ]
     },
     "metadata": {
      "needs_background": "light"
     },
     "output_type": "display_data"
    }
   ],
   "source": [
    "#task 4.1\n",
    "import matplotlib.pyplot as plt\n",
    "import numpy as np\n",
    "import math\n",
    "\n",
    "def function(x):\n",
    "    return (x**2) - (2*x) - 3\n",
    "\n",
    "x = np.linspace(-10, 10, 100)\n",
    "y = function(x)\n",
    "\n",
    "plt.plot(x, y, label='f(x) = x^2 - 2x - 3')\n",
    "plt.legend()\n",
    "plt.show()\n"
   ]
  },
  {
   "cell_type": "markdown",
   "metadata": {},
   "source": [
    "<h4>task4.2</h4>"
   ]
  },
  {
   "cell_type": "code",
   "execution_count": 53,
   "metadata": {},
   "outputs": [
    {
     "data": {
      "image/png": "[encoded data removed]",
      "text/plain": [
       "<Figure size 432x288 with 1 Axes>"
      ]
     },
     "metadata": {
      "needs_background": "light"
     },
     "output_type": "display_data"
    }
   ],
   "source": [
    "#task4.2\n",
    "import matplotlib.pyplot as plt\n",
    "import numpy as np\n",
    "import math\n",
    "\n",
    "def function(x):\n",
    "    return np.sin(10*x) + np.cos(3*x)\n",
    "\n",
    "x = np.linspace(-10, 10, 100)\n",
    "y = function(x)\n",
    "\n",
    "plt.plot(x, y, label='f(x) = Sin(10x) + Cos(3x)')\n",
    "plt.legend()\n",
    "plt.show()\n"
   ]
  },
  {
   "cell_type": "markdown",
   "metadata": {},
   "source": [
    "<h4>task4.3</h4>"
   ]
  },
  {
   "cell_type": "code",
   "execution_count": 54,
   "metadata": {},
   "outputs": [
    {
     "data": {
      "image/png": "[encoded data removed]",
      "text/plain": [
       "<Figure size 432x288 with 1 Axes>"
      ]
     },
     "metadata": {
      "needs_background": "light"
     },
     "output_type": "display_data"
    }
   ],
   "source": [
    "#task 4.3\n",
    "import matplotlib.pyplot as plt\n",
    "import numpy as np\n",
    "import math\n",
    "\n",
    "def function(x):\n",
    "    return np.sin(2*math.pi*x) + math.e**(2*x) + x - 2.5\n",
    "\n",
    "\n",
    "x = np.linspace(-6, 2, 100)\n",
    "y = function(x)\n",
    "\n",
    "plt.plot(x, y, label='f(x) = Sin(2*pi*x) + e^2x + x - 2.5')\n",
    "plt.legend()\n",
    "plt.show()\n"
   ]
  },
  {
   "cell_type": "markdown",
   "metadata": {},
   "source": [
    "<h2>Task 5</h2>\n",
    "<h3>Implement the following functions to</h3>\n",
    "<ul>\n",
    "    <li>is_square() : to test whether a matrix (A) is a square matrix</li>\n",
    "    <li>is_symmetrical() : to test whether a matrix (A) is symmetrical.</li>\n",
    "    <li>is_diagonal() : to test whether a matrix (A) is diagonal.</li>\n",
    "    <li>is_identity() : to test whether a matrix (A) is an identity matrix</li>\n",
    "    <li>is_zero() : to test whether a matrix (A) is a zero matrix.</li>\n",
    "    <li>transpose() : to transpose a matrix (A)</li>\n",
    "</ul>\n",
    "\n"
   ]
  },
  {
   "cell_type": "code",
   "execution_count": 55,
   "metadata": {},
   "outputs": [],
   "source": [
    "def is_square(matrix):\n",
    "    for i in range(0, len(matrix)):\n",
    "        if len(matrix[i]) != len(matrix):\n",
    "            return \"not square matrix\"\n",
    "    return \"is square matrix\""
   ]
  },
  {
   "cell_type": "code",
   "execution_count": 23,
   "metadata": {
    "scrolled": true
   },
   "outputs": [],
   "source": [
    "def is_symmetrical(matrix):\n",
    "    for i in range(0, len(matrix)):\n",
    "        for j in range(i, len(matrix[i])):\n",
    "            if matrix[i][j] != matrix[j][i]:\n",
    "                return \"not symmetric\"\n",
    "    return \"is symmetric\""
   ]
  },
  {
   "cell_type": "code",
   "execution_count": 24,
   "metadata": {},
   "outputs": [],
   "source": [
    "def is_diagoanal(matrix):\n",
    "    for i in range(0, len(matrix)-1):\n",
    "        for j in range(i+1, len(matrix[i])):\n",
    "            if matrix[i][j] != 0:\n",
    "                return \"not diagonal\"\n",
    "    return \"is diagonal\""
   ]
  },
  {
   "cell_type": "code",
   "execution_count": 25,
   "metadata": {},
   "outputs": [],
   "source": [
    "def is_identity(matrix):\n",
    "    for i in range(0, len(matrix)):\n",
    "        if matrix[i][i] == 1:\n",
    "            for j in range(i+1, len(matrix[i])):\n",
    "                if matrix[i][j] != 0:\n",
    "                    return \"not identity\"\n",
    "        else:\n",
    "            return \"not identity\"\n",
    "    return \"is identity\""
   ]
  },
  {
   "cell_type": "code",
   "execution_count": 26,
   "metadata": {},
   "outputs": [],
   "source": [
    "def is_zero(matrix):\n",
    "    for i in range(0, len(matrix)):\n",
    "        for j in range(0, len(matrix[i])):\n",
    "            if matrix[i][j] != 0:\n",
    "                return \"not zero\"\n",
    "    return \"is zero\""
   ]
  },
  {
   "cell_type": "code",
   "execution_count": 27,
   "metadata": {},
   "outputs": [],
   "source": [
    "def transpose(matrix):\n",
    "    array = []\n",
    "    for i in range(0, len(matrix[0])):\n",
    "        array.insert(i, [])\n",
    "        for j in range(0, len(matrix)):\n",
    "            array[i].insert(0, 0)\n",
    "    for i in range(0, len(array)):\n",
    "        for j in range(0, len(array[i])):\n",
    "            array[i][j] = matrix[j][i]\n",
    "    return array\n",
    "    \n"
   ]
  },
  {
   "cell_type": "markdown",
   "metadata": {},
   "source": [
    "<h2>Task 6</h2>\n",
    "<h3>Implement a function that can multiply() two matrices (A and B) using while loop.</h3>\n"
   ]
  },
  {
   "cell_type": "code",
   "execution_count": 61,
   "metadata": {},
   "outputs": [],
   "source": [
    "def multiply(matrixA, matrixB):\n",
    "    if len(matrixA[0]) != len(matrixB):\n",
    "        print(\"Cannot multiply\")\n",
    "        return \"Cannot multiply\"\n",
    "    \n",
    "    array = []\n",
    "    i=0\n",
    "    j=0\n",
    "    \n",
    "    for i in range(0, len(matrixA)):\n",
    "        array.insert(0, [])\n",
    "        for j in range(0, len(matrixB[0])):\n",
    "            array[0].insert(0, j)\n",
    "    \n",
    "    i=0\n",
    "    j=0\n",
    "    k=0\n",
    "    \n",
    "    while i<len(array):\n",
    "        while j<len(array[0]):\n",
    "            sum = 0\n",
    "            while k<len(matrixA[0]):\n",
    "                sum += matrixA[i][k] * matrixB[k][j]\n",
    "                k += 1\n",
    "            array[i][j] = sum\n",
    "            j += 1\n",
    "            k = 0\n",
    "        i += 1\n",
    "        j = 0\n",
    "  \n",
    "    print(array)"
   ]
  },
  {
   "cell_type": "code",
   "execution_count": 63,
   "metadata": {},
   "outputs": [
    {
     "name": "stdout",
     "output_type": "stream",
     "text": [
      "multiply A B\n",
      "Cannot multiply\n",
      "multiply C D\n",
      "[[26, 35], [22, 31]]\n"
     ]
    }
   ],
   "source": [
    "matrixA = [[4, 2],\n",
    "           [0, 1]]\n",
    "matrixB = [[1],\n",
    "           [2],\n",
    "           [3]]\n",
    "matrixC = [[1, 3, 5],\n",
    "           [2, 3, 4]]\n",
    "matrixD = [[0, 1], \n",
    "           [2, 3], \n",
    "           [4, 5]]\n",
    "print('multiply A B')\n",
    "multiply(matrixA, matrixB)\n",
    "print('multiply C D')\n",
    "multiply(matrixC, matrixD)"
   ]
  },
  {
   "cell_type": "markdown",
   "metadata": {},
   "source": [
    "<h2>Task 7</h2>\n",
    "<h3>Implement the deter() function to calculate the determinant of a matrix using lopp instead of recursion for matrix of size 3x3.</h3>\n"
   ]
  },
  {
   "cell_type": "code",
   "execution_count": 131,
   "metadata": {},
   "outputs": [
    {
     "name": "stdout",
     "output_type": "stream",
     "text": [
      "57\n"
     ]
    }
   ],
   "source": [
    "def _minor(x,row,colum):\n",
    "    matrix = []\n",
    "    for i in range (0,len(x)):\n",
    "        if i != row:\n",
    "            keep = []\n",
    "            for j in range(0,len(x[0])):\n",
    "                if j != colum:\n",
    "                    keep.append(x[i][j])\n",
    "            matrix.append(keep)\n",
    "    return matrix\n",
    "\n",
    "def deter(x):\n",
    "    determainant = 0\n",
    "    if len(x) == 1:\n",
    "        determainant = x[0][0]\n",
    "    else:\n",
    "        for i in range(0,len(x[0])):\n",
    "            mi = _minor(x,0,i)\n",
    "            newdat = (mi[0][0]*mi[1][1])-(mi[0][1]*mi[1][0])\n",
    "            determainant += ((-1)**i)*x[0][i]*newdat\n",
    "    return determainant\n",
    "\n",
    "matrixA = [[2,3,4],\n",
    "         [5,5,7],\n",
    "         [8,9,1]];\n",
    "print(deter(matrixA))"
   ]
  },
  {
   "cell_type": "markdown",
   "metadata": {},
   "source": [
    "<h2>Task 8</h2>\n",
    "<h3>minor, cofactor, adjoint, inverse</h3>\n"
   ]
  },
  {
   "cell_type": "code",
   "execution_count": 132,
   "metadata": {},
   "outputs": [],
   "source": [
    "matrixA = [[1,1,-1,-2],\n",
    "          [0,2,1,3],\n",
    "          [0,1,1,3],\n",
    "          [0,2,1,4]];"
   ]
  },
  {
   "cell_type": "code",
   "execution_count": 133,
   "metadata": {},
   "outputs": [],
   "source": [
    "def minor(b):\n",
    "    matrix = []\n",
    "    for i in range (0,len(b)):\n",
    "        change = []\n",
    "        for j in range (0,len(b[0])):\n",
    "            determinant = 0\n",
    "            x = deter(_minor(b,i,j))\n",
    "            change.append(x)\n",
    "        matrix.append(change)\n",
    "    return matrix"
   ]
  },
  {
   "cell_type": "code",
   "execution_count": 134,
   "metadata": {},
   "outputs": [],
   "source": [
    "def cofactor(x):\n",
    "    matrix = []\n",
    "    for i in range (0,len(x)):\n",
    "        temp = []\n",
    "        for j in range (0,len(x[0])):\n",
    "            cof = ((-1)**(i+j))*x[i][j]\n",
    "            temp.append(cof)\n",
    "        matrix.append(temp)\n",
    "    return matrix"
   ]
  },
  {
   "cell_type": "code",
   "execution_count": 139,
   "metadata": {},
   "outputs": [],
   "source": [
    "def adjoint(x):\n",
    "    matrix = transpose(x)\n",
    "    return matrix"
   ]
  },
  {
   "cell_type": "code",
   "execution_count": 140,
   "metadata": {},
   "outputs": [],
   "source": [
    "def inverse(e,det):\n",
    "    matrix = []\n",
    "    for i in range (0,len(e)):\n",
    "        change = []\n",
    "        for j in range (0,len(e[0])):\n",
    "            inv = e[i][j] / det\n",
    "            change.append(inv)\n",
    "        matrix.append(change)\n",
    "    return matrix"
   ]
  },
  {
   "cell_type": "code",
   "execution_count": 141,
   "metadata": {},
   "outputs": [],
   "source": [
    "def transpose( m ):\n",
    "    \n",
    "    # zeroed matrix with height of m width and width of m height\n",
    "    result = [ [ 0 for y in range( len( m ) ) ] for x in range( len( m[ 0 ] ) ) ]\n",
    "    \n",
    "    for i in range( len( m ) ):\n",
    "        for j in range ( len( m[ 0 ] ) ):\n",
    "            result[ j ][ i ] = m[ i ][ j ]\n",
    "\n",
    "    return result\n"
   ]
  },
  {
   "cell_type": "code",
   "execution_count": 142,
   "metadata": {},
   "outputs": [
    {
     "name": "stdout",
     "output_type": "stream",
     "text": [
      "The minor of this matrix is \n",
      "[[ 1  0  0  0]\n",
      " [ 1  1 -2 -1]\n",
      " [ 3  1  2  0]\n",
      " [ 1  0  3  1]]\n",
      "The cofactor of this matrix is \n",
      "[[ 1  0  0  0]\n",
      " [-1  1  2 -1]\n",
      " [ 3 -1  2  0]\n",
      " [-1  0 -3  1]]\n",
      "The adjoint of this matrix is \n",
      "[[ 1 -1  3 -1]\n",
      " [ 0  1 -1  0]\n",
      " [ 0  2  2 -3]\n",
      " [ 0 -1  0  1]]\n",
      "The inverse of this matrix is \n",
      "[[ 1 -1  3 -1]\n",
      " [ 0  1 -1  0]\n",
      " [ 0  2  2 -3]\n",
      " [ 0 -1  0  1]]\n"
     ]
    }
   ],
   "source": [
    "mi= np.array(minor(matrixA))\n",
    "cofact = np.array(cofactor(mi))\n",
    "ad = np.array(adjoint(cofact))\n",
    "inv = np.array(inverse(ad,deter(matrixA)), dtype = int)\n",
    "\n",
    "print('The minor of this matrix is ')\n",
    "print(mi)\n",
    "                 \n",
    "print('The cofactor of this matrix is ')\n",
    "print(cofact)\n",
    "\n",
    "print('The adjoint of this matrix is ')\n",
    "print(ad)\n",
    "\n",
    "print('The inverse of this matrix is ')\n",
    "print(inv)"
   ]
  },
  {
   "cell_type": "code",
   "execution_count": null,
   "metadata": {},
   "outputs": [],
   "source": []
  },
  {
   "cell_type": "code",
   "execution_count": null,
   "metadata": {},
   "outputs": [],
   "source": []
  }
 ],
 "metadata": {
  "kernelspec": {
   "display_name": "Python 3",
   "language": "python",
   "name": "python3"
  },
  "language_info": {
   "codemirror_mode": {
    "name": "ipython",
    "version": 3
   },
   "file_extension": ".py",
   "mimetype": "text/x-python",
   "name": "python",
   "nbconvert_exporter": "python",
   "pygments_lexer": "ipython3",
   "version": "3.8.3"
  }
 },
 "nbformat": 4,
 "nbformat_minor": 4
}
