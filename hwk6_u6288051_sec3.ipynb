{
 "cells": [
  {
   "cell_type": "markdown",
   "metadata": {},
   "source": [
    "## Task 1 ##"
   ]
  },
  {
   "cell_type": "code",
   "execution_count": 1,
   "metadata": {},
   "outputs": [],
   "source": [
    "import numpy as np\n",
    "import math"
   ]
  },
  {
   "cell_type": "code",
   "execution_count": 2,
   "metadata": {},
   "outputs": [],
   "source": [
    "M = np.matrix([\n",
    "    [2,1,1,10],\n",
    "    [3,2,3,18],\n",
    "    [1,4,9,16],\n",
    "])"
   ]
  },
  {
   "cell_type": "code",
   "execution_count": 3,
   "metadata": {},
   "outputs": [
    {
     "data": {
      "text/plain": [
       "matrix([[ 0,  7, 17, 22]])"
      ]
     },
     "execution_count": 3,
     "metadata": {},
     "output_type": "execute_result"
    }
   ],
   "source": [
    "eq1 = M[2,:]*2 - M[0,:]\n",
    "eq1"
   ]
  },
  {
   "cell_type": "code",
   "execution_count": 4,
   "metadata": {},
   "outputs": [
    {
     "data": {
      "text/plain": [
       "matrix([[ 0.,  5., 12., 15.]])"
      ]
     },
     "execution_count": 4,
     "metadata": {},
     "output_type": "execute_result"
    }
   ],
   "source": [
    "eq2 = (M[2,:]*3-M[1,:])/2\n",
    "eq2"
   ]
  },
  {
   "cell_type": "code",
   "execution_count": 5,
   "metadata": {},
   "outputs": [
    {
     "data": {
      "text/plain": [
       "matrix([[ 0. ,  7. , 16.8, 21. ]])"
      ]
     },
     "execution_count": 5,
     "metadata": {},
     "output_type": "execute_result"
    }
   ],
   "source": [
    "eq3 = eq2*(7/5)\n",
    "eq3"
   ]
  },
  {
   "cell_type": "code",
   "execution_count": 70,
   "metadata": {},
   "outputs": [
    {
     "data": {
      "text/plain": [
       "matrix([[0, 0, 1, 5]])"
      ]
     },
     "execution_count": 70,
     "metadata": {},
     "output_type": "execute_result"
    }
   ],
   "source": [
    "eq4 = (eq1-eq3)*5\n",
    "eq4=eq4.astype(int)\n",
    "eq4"
   ]
  },
  {
   "cell_type": "code",
   "execution_count": 36,
   "metadata": {},
   "outputs": [
    {
     "data": {
      "text/plain": [
       "matrix([[ 3,  1,  0, 12]])"
      ]
     },
     "execution_count": 36,
     "metadata": {},
     "output_type": "execute_result"
    }
   ],
   "source": [
    "eq5 = M[0,:]*3 - M[1,:]\n",
    "eq5"
   ]
  },
  {
   "cell_type": "code",
   "execution_count": 37,
   "metadata": {},
   "outputs": [
    {
     "data": {
      "text/plain": [
       "matrix([[ 8,  2,  0, 38]])"
      ]
     },
     "execution_count": 37,
     "metadata": {},
     "output_type": "execute_result"
    }
   ],
   "source": [
    "eq6 = M[1,:]*3 - M[2,:]\n",
    "eq6"
   ]
  },
  {
   "cell_type": "code",
   "execution_count": 38,
   "metadata": {},
   "outputs": [
    {
     "data": {
      "text/plain": [
       "matrix([[ 2,  0,  0, 14]])"
      ]
     },
     "execution_count": 38,
     "metadata": {},
     "output_type": "execute_result"
    }
   ],
   "source": [
    "eq7 = eq6-eq5*2\n",
    "eq7"
   ]
  },
  {
   "cell_type": "code",
   "execution_count": 68,
   "metadata": {
    "scrolled": true
   },
   "outputs": [
    {
     "data": {
      "text/plain": [
       "matrix([[1, 0, 0, 7]])"
      ]
     },
     "execution_count": 68,
     "metadata": {},
     "output_type": "execute_result"
    }
   ],
   "source": [
    "eq8 = eq7/2\n",
    "eq8=eq8.astype(int)\n",
    "eq8"
   ]
  },
  {
   "cell_type": "code",
   "execution_count": 69,
   "metadata": {},
   "outputs": [
    {
     "data": {
      "text/plain": [
       "matrix([[0, 4, 9, 9]])"
      ]
     },
     "execution_count": 69,
     "metadata": {},
     "output_type": "execute_result"
    }
   ],
   "source": [
    "eq9 = M[2,:]-eq8\n",
    "eq9"
   ]
  },
  {
   "cell_type": "code",
   "execution_count": 73,
   "metadata": {},
   "outputs": [
    {
     "data": {
      "text/plain": [
       "matrix([[ 0,  1,  0, -9]])"
      ]
     },
     "execution_count": 73,
     "metadata": {},
     "output_type": "execute_result"
    }
   ],
   "source": [
    "eq10 = (eq9-eq4*9)/4\n",
    "eq10=eq10.astype(int)\n",
    "eq10"
   ]
  },
  {
   "cell_type": "code",
   "execution_count": 77,
   "metadata": {},
   "outputs": [
    {
     "data": {
      "text/plain": [
       "matrix([[ 1,  0,  0,  7],\n",
       "        [ 0,  1,  0, -9],\n",
       "        [ 0,  0,  1,  5]])"
      ]
     },
     "execution_count": 77,
     "metadata": {},
     "output_type": "execute_result"
    }
   ],
   "source": [
    "R = eq8\n",
    "R = np.append(R,eq10,axis=0)\n",
    "R = np.append(R,eq4,axis=0)\n",
    "R"
   ]
  },
  {
   "cell_type": "markdown",
   "metadata": {},
   "source": [
    "## Task 2 ##"
   ]
  },
  {
   "cell_type": "code",
   "execution_count": 9,
   "metadata": {},
   "outputs": [
    {
     "data": {
      "text/plain": [
       "matrix([[2, 1, 1],\n",
       "        [3, 2, 3],\n",
       "        [1, 4, 9]])"
      ]
     },
     "execution_count": 9,
     "metadata": {},
     "output_type": "execute_result"
    }
   ],
   "source": [
    "A = np.matrix([\n",
    "    [2,1,1],\n",
    "    [3,2,3],\n",
    "    [1,4,9]\n",
    "])\n",
    "A"
   ]
  },
  {
   "cell_type": "code",
   "execution_count": 10,
   "metadata": {},
   "outputs": [
    {
     "data": {
      "text/plain": [
       "matrix([[10],\n",
       "        [18],\n",
       "        [16]])"
      ]
     },
     "execution_count": 10,
     "metadata": {},
     "output_type": "execute_result"
    }
   ],
   "source": [
    "B = np.matrix([\n",
    "    [10],\n",
    "    [18],\n",
    "    [16]\n",
    "])\n",
    "B"
   ]
  },
  {
   "cell_type": "code",
   "execution_count": 11,
   "metadata": {},
   "outputs": [
    {
     "name": "stdout",
     "output_type": "stream",
     "text": [
      "[[-3.   2.5 -0.5]\n",
      " [12.  -8.5  1.5]\n",
      " [-5.   3.5 -0.5]]\n"
     ]
    }
   ],
   "source": [
    "INA =np.linalg.inv(A)\n",
    "print(INA)"
   ]
  },
  {
   "cell_type": "code",
   "execution_count": 12,
   "metadata": {},
   "outputs": [
    {
     "name": "stdout",
     "output_type": "stream",
     "text": [
      "[[ 7.]\n",
      " [-9.]\n",
      " [ 5.]]\n"
     ]
    }
   ],
   "source": [
    "X = np.dot(INA,B)\n",
    "print(X)"
   ]
  },
  {
   "cell_type": "markdown",
   "metadata": {},
   "source": [
    "## Task 3 ##"
   ]
  },
  {
   "cell_type": "code",
   "execution_count": 13,
   "metadata": {},
   "outputs": [
    {
     "name": "stdout",
     "output_type": "stream",
     "text": [
      "[[2. 1. 1.]\n",
      " [3. 2. 3.]\n",
      " [1. 4. 9.]]\n"
     ]
    }
   ],
   "source": [
    "A = np.matrix([\n",
    "    [2,1,1],\n",
    "    [3,2,3],\n",
    "    [1,4,9]\n",
    "])\n",
    "A = A*1.0\n",
    "print(A)"
   ]
  },
  {
   "cell_type": "code",
   "execution_count": 14,
   "metadata": {},
   "outputs": [
    {
     "name": "stdout",
     "output_type": "stream",
     "text": [
      "[[10.]\n",
      " [18.]\n",
      " [16.]]\n"
     ]
    }
   ],
   "source": [
    "B = np.matrix([\n",
    "    [10],\n",
    "    [18],\n",
    "    [16]\n",
    "])\n",
    "B = B*1.0\n",
    "print(B)"
   ]
  },
  {
   "cell_type": "code",
   "execution_count": 15,
   "metadata": {},
   "outputs": [],
   "source": [
    "def fwd_elim(AB):\n",
    "    AB_re = AB.copy()\n",
    "    [nr,nc] = AB_re.shape\n",
    "    \n",
    "    #set i as the Iteration index\n",
    "    for i in range(1,nr):\n",
    "        #print('Iteration #{}: '.format(i))\n",
    "        #set r as the row index to work on\n",
    "        for r in range(i,nr):\n",
    "            #print('  working on row #{}'.format(r))\n",
    "            #iteration index represent the order of the variable that we want to eliminate\n",
    "            row_factor = AB_re[r,i-1]/AB_re[i-1,i-1]\n",
    "            AB_re[r,:] = AB_re[r,:] - AB_re[i-1,:]*row_factor\n",
    "        #end for r\n",
    "    #end for i\n",
    "    print(AB_re)\n",
    "    return AB_re\n",
    "#end function"
   ]
  },
  {
   "cell_type": "code",
   "execution_count": 16,
   "metadata": {},
   "outputs": [
    {
     "name": "stdout",
     "output_type": "stream",
     "text": [
      "[[ 2.  1.  1. 10.]\n",
      " [ 3.  2.  3. 18.]\n",
      " [ 1.  4.  9. 16.]]\n"
     ]
    }
   ],
   "source": [
    "AB = np.append(A,B,axis=1)\n",
    "AB = AB *1.0\n",
    "print(AB)"
   ]
  },
  {
   "cell_type": "code",
   "execution_count": 17,
   "metadata": {},
   "outputs": [
    {
     "name": "stdout",
     "output_type": "stream",
     "text": [
      "[[  2.    1.    1.   10. ]\n",
      " [  0.    0.5   1.5   3. ]\n",
      " [  0.    0.   -2.  -10. ]]\n"
     ]
    }
   ],
   "source": [
    "AB_re = fwd_elim(AB)"
   ]
  },
  {
   "cell_type": "code",
   "execution_count": 18,
   "metadata": {},
   "outputs": [
    {
     "name": "stdout",
     "output_type": "stream",
     "text": [
      "[[  2.    1.    1.   10. ]\n",
      " [  0.    0.5   1.5   3. ]\n",
      " [  0.    0.   -2.  -10. ]]\n"
     ]
    }
   ],
   "source": [
    "print(AB_re)"
   ]
  },
  {
   "cell_type": "code",
   "execution_count": 19,
   "metadata": {},
   "outputs": [],
   "source": [
    "def back_sub(AB_re):\n",
    "    [nr,nc] = AB_re.shape\n",
    "    #nr will represent the total number of variables that we have to find\n",
    "    #create x to hold calculated values\n",
    "    X = np.empty(nr)\n",
    "    \n",
    "    # v is the variable iterator (index)\n",
    "    for v in range(nr-1,-1,-1):\n",
    "        #print('v = {}'.format(v))\n",
    "        #x = (constant - (sum_of_products between coeff_i and x_i))/coeff of x_v\n",
    "        #where i>v\n",
    "        \n",
    "        sum_of_products = 0\n",
    "        for i in range(v+1,nr):\n",
    "            #print('  i = {}'.format(i))\n",
    "            product = AB_re[v,i]*X[i]\n",
    "            sum_of_products = sum_of_products + product\n",
    "        #end for i\n",
    "        X[v] = (AB_re[v,nc-1] - sum_of_products)/AB_re[v,v]\n",
    "    #end for v\n",
    "    print(X)\n",
    "    return X\n",
    "#end function"
   ]
  },
  {
   "cell_type": "code",
   "execution_count": 20,
   "metadata": {},
   "outputs": [
    {
     "name": "stdout",
     "output_type": "stream",
     "text": [
      "[ 7. -9.  5.]\n"
     ]
    }
   ],
   "source": [
    "X = back_sub(AB_re)"
   ]
  },
  {
   "cell_type": "code",
   "execution_count": 21,
   "metadata": {},
   "outputs": [],
   "source": [
    "def fwd_elim_recurse(AB):\n",
    "    [nr,nc] = AB.shape\n",
    "    ABX = AB.copy()\n",
    "    \n",
    "    if(nr == 1):\n",
    "        #don't do anything\n",
    "        pass\n",
    "    else:\n",
    "        # r is the iterator for the rows whose first element removed\n",
    "        for r in range(1,nr):\n",
    "            row_factor = ABX[r,0]/ABX[0,0]\n",
    "            ABX[r,:] = ABX[r,:] - ABX[0,:]*row_factor\n",
    "        #end for\n",
    "        print(ABX)\n",
    "        #define the red box to be send to the next recursion\n",
    "        red_box = ABX[1:nr,1:nc].copy()\n",
    "        print(red_box)\n",
    "        temp = fwd_elim_recurse(red_box)\n",
    "        ABX[1:nr,1:nc] = temp\n",
    "    #end if\n",
    "    return ABX\n",
    "#end function\n",
    "    "
   ]
  },
  {
   "cell_type": "code",
   "execution_count": 22,
   "metadata": {},
   "outputs": [
    {
     "name": "stdout",
     "output_type": "stream",
     "text": [
      "[[ 2.  1.  1. 10.]\n",
      " [ 3.  2.  3. 18.]\n",
      " [ 1.  4.  9. 16.]]\n"
     ]
    }
   ],
   "source": [
    "print(AB)"
   ]
  },
  {
   "cell_type": "code",
   "execution_count": 23,
   "metadata": {},
   "outputs": [
    {
     "name": "stdout",
     "output_type": "stream",
     "text": [
      "[[ 2.   1.   1.  10. ]\n",
      " [ 0.   0.5  1.5  3. ]\n",
      " [ 0.   3.5  8.5 11. ]]\n",
      "[[ 0.5  1.5  3. ]\n",
      " [ 3.5  8.5 11. ]]\n",
      "[[  0.5   1.5   3. ]\n",
      " [  0.   -2.  -10. ]]\n",
      "[[ -2. -10.]]\n"
     ]
    },
    {
     "data": {
      "text/plain": [
       "matrix([[  2. ,   1. ,   1. ,  10. ],\n",
       "        [  0. ,   0.5,   1.5,   3. ],\n",
       "        [  0. ,   0. ,  -2. , -10. ]])"
      ]
     },
     "execution_count": 23,
     "metadata": {},
     "output_type": "execute_result"
    }
   ],
   "source": [
    "fwd_elim_recurse(AB)"
   ]
  },
  {
   "cell_type": "markdown",
   "metadata": {},
   "source": [
    "## Task 4 ##"
   ]
  },
  {
   "cell_type": "code",
   "execution_count": 24,
   "metadata": {},
   "outputs": [],
   "source": [
    "def Cramer_Rule(X,Y,n):\n",
    "    for i in range (0,n):\n",
    "        A = X.copy()\n",
    "        A[:,i] = Y\n",
    "        print(A)\n",
    "        ans = np.linalg.det(A)/np.linalg.det(X)\n",
    "        print(round(ans))"
   ]
  },
  {
   "cell_type": "code",
   "execution_count": 25,
   "metadata": {},
   "outputs": [
    {
     "name": "stdout",
     "output_type": "stream",
     "text": [
      "[[15 -5]\n",
      " [31  1]]\n",
      "10.0\n",
      "[[ 2 15]\n",
      " [ 3 31]]\n",
      "1.0\n"
     ]
    }
   ],
   "source": [
    "A = np.matrix([\n",
    "    [2,-5],\n",
    "    [3,1]\n",
    "])\n",
    "\n",
    "B = np.matrix([\n",
    "    [15],\n",
    "    [31]\n",
    "])\n",
    "\n",
    "Cramer_Rule(A,B,len(A))"
   ]
  },
  {
   "cell_type": "code",
   "execution_count": 26,
   "metadata": {},
   "outputs": [
    {
     "name": "stdout",
     "output_type": "stream",
     "text": [
      "[[10  1  1]\n",
      " [18  2  3]\n",
      " [16  4  9]]\n",
      "7.0\n",
      "[[ 2 10  1]\n",
      " [ 3 18  3]\n",
      " [ 1 16  9]]\n",
      "-9.0\n",
      "[[ 2  1 10]\n",
      " [ 3  2 18]\n",
      " [ 1  4 16]]\n",
      "5.0\n"
     ]
    }
   ],
   "source": [
    "A = np.matrix([\n",
    "    [2,1,1],\n",
    "    [3,2,3],\n",
    "    [1,4,9]\n",
    "])\n",
    "\n",
    "B = np.matrix([\n",
    "    [10],\n",
    "    [18],\n",
    "    [16]\n",
    "])\n",
    "\n",
    "Cramer_Rule(A,B,len(A))"
   ]
  },
  {
   "cell_type": "code",
   "execution_count": 27,
   "metadata": {},
   "outputs": [
    {
     "name": "stdout",
     "output_type": "stream",
     "text": [
      "[[13  2  1  4]\n",
      " [28  0  4  3]\n",
      " [20  2  2  1]\n",
      " [ 6  1  3  2]]\n",
      "3.0\n",
      "[[ 1 13  1  4]\n",
      " [ 2 28  4  3]\n",
      " [ 4 20  2  1]\n",
      " [-3  6  3  2]]\n",
      "-1.0\n",
      "[[ 1  2 13  4]\n",
      " [ 2  0 28  3]\n",
      " [ 4  2 20  1]\n",
      " [-3  1  6  2]]\n",
      "4.0\n",
      "[[ 1  2  1 13]\n",
      " [ 2  0  4 28]\n",
      " [ 4  2  2 20]\n",
      " [-3  1  3  6]]\n",
      "2.0\n"
     ]
    }
   ],
   "source": [
    "A = np.matrix([\n",
    "    [1,2,1,4],\n",
    "    [2,0,4,3],\n",
    "    [4,2,2,1],\n",
    "    [-3,1,3,2]\n",
    "])\n",
    "\n",
    "B = np.matrix([\n",
    "    [13],\n",
    "    [28],\n",
    "    [20],\n",
    "    [6]\n",
    "])\n",
    "\n",
    "Cramer_Rule(A,B,len(A))"
   ]
  },
  {
   "cell_type": "markdown",
   "metadata": {},
   "source": [
    "## Task 5 ##"
   ]
  },
  {
   "cell_type": "code",
   "execution_count": 28,
   "metadata": {},
   "outputs": [
    {
     "name": "stdout",
     "output_type": "stream",
     "text": [
      "[[0. 2. 5. 1.]\n",
      " [2. 1. 1. 1.]\n",
      " [3. 1. 0. 2.]]\n"
     ]
    }
   ],
   "source": [
    "AB2 = np.array([\n",
    "    [0,2,5,1],\n",
    "    [2,1,1,1],\n",
    "    [3,1,0,2]\n",
    "])\n",
    "\n",
    "AB2 = AB2 *1.0\n",
    "print(AB2)"
   ]
  },
  {
   "cell_type": "code",
   "execution_count": 29,
   "metadata": {},
   "outputs": [],
   "source": [
    "#(rearrange the rows)\n",
    "temp = AB2[0,:].copy()\n",
    "AB2[0,:] = AB2[2,:].copy()\n",
    "AB2[2,:] = temp"
   ]
  },
  {
   "cell_type": "code",
   "execution_count": 30,
   "metadata": {},
   "outputs": [],
   "source": [
    "def fwd_elim_recurse(AB):\n",
    "    [nr,nc] = AB.shape\n",
    "    ABX = AB.copy()\n",
    "    # partialpivoting\n",
    "    #(student work on this)\n",
    "    #(rearrange the rows)\n",
    "    \n",
    "    if(nr == 1):\n",
    "        #don't do anything\n",
    "        pass\n",
    "    else:\n",
    "        # r is the iterator for the rows whose first element removed\n",
    "        for r in range(1,nr):\n",
    "            row_factor = ABX[r,0]/ABX[0,0]\n",
    "            ABX[r,:] = ABX[r,:] - ABX[0,:]*row_factor\n",
    "        #end for\n",
    "        print(ABX)\n",
    "        #define the red box to be send to the next recursion\n",
    "        red_box = ABX[1:nr,1:nc].copy()\n",
    "        print(red_box)\n",
    "        temp = fwd_elim_recurse(red_box)\n",
    "        ABX[1:nr,1:nc] = temp\n",
    "    #end if\n",
    "    return ABX\n",
    "#end function\n",
    "    "
   ]
  },
  {
   "cell_type": "code",
   "execution_count": 31,
   "metadata": {},
   "outputs": [
    {
     "name": "stdout",
     "output_type": "stream",
     "text": [
      "[[ 3.          1.          0.          2.        ]\n",
      " [ 0.          0.33333333  1.         -0.33333333]\n",
      " [ 0.          2.          5.          1.        ]]\n",
      "[[ 0.33333333  1.         -0.33333333]\n",
      " [ 2.          5.          1.        ]]\n",
      "[[ 0.33333333  1.         -0.33333333]\n",
      " [ 0.         -1.          3.        ]]\n",
      "[[-1.  3.]]\n",
      "[[ 3.          1.          0.          2.        ]\n",
      " [ 0.          0.33333333  1.         -0.33333333]\n",
      " [ 0.          0.         -1.          3.        ]]\n"
     ]
    }
   ],
   "source": [
    "AB_re2 = fwd_elim_recurse(AB2)\n",
    "print(AB_re2)"
   ]
  },
  {
   "cell_type": "code",
   "execution_count": 32,
   "metadata": {},
   "outputs": [
    {
     "name": "stdout",
     "output_type": "stream",
     "text": [
      "[-2.  8. -3.]\n",
      "[-2.  8. -3.]\n"
     ]
    }
   ],
   "source": [
    "X2 = back_sub(AB_re2)\n",
    "print(X2)"
   ]
  },
  {
   "cell_type": "code",
   "execution_count": null,
   "metadata": {},
   "outputs": [],
   "source": []
  }
 ],
 "metadata": {
  "kernelspec": {
   "display_name": "Python 3",
   "language": "python",
   "name": "python3"
  },
  "language_info": {
   "codemirror_mode": {
    "name": "ipython",
    "version": 3
   },
   "file_extension": ".py",
   "mimetype": "text/x-python",
   "name": "python",
   "nbconvert_exporter": "python",
   "pygments_lexer": "ipython3",
   "version": "3.8.3"
  }
 },
 "nbformat": 4,
 "nbformat_minor": 4
}
