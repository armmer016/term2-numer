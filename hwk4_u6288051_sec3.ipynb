{
 "cells": [
  {
   "cell_type": "markdown",
   "metadata": {},
   "source": [
    "# TASK1"
   ]
  },
  {
   "cell_type": "code",
   "execution_count": 47,
   "metadata": {},
   "outputs": [],
   "source": [
    "import numpy as np\n",
    "import math\n",
    "\n",
    "\n",
    "def f(x):\n",
    "    return (x**3)-(4*(x**2))-(4*x)+16\n",
    "#end function\n",
    "\n",
    "def df(x):\n",
    "    #since f(x) = x^3 - 4x^2 - 4x+16\n",
    "    # so df(x) = 3x^2 - 12x+4 # cal\n",
    "    return 3*(x**2) - (8*x) + 4\n",
    "\n",
    "def newton(f,df,x0,p):\n",
    "    #stopping creiterion\n",
    "    es = 0.5*(10**(2-p))\n",
    "    ea =100\n",
    "    x= x0\n",
    "    prev_x = x\n",
    "    \n",
    "    i = 1\n",
    "    while(ea > es):\n",
    "        x = x-(f(x)/df(x))\n",
    "        ea = abs((x-prev_x)/x) *100\n",
    "        print('Iteration #{}: x = {} , ea = {} '.format(i,x,ea))\n",
    "        prev_x = x\n",
    "        i += 1\n",
    "    #end while\n",
    "\n"
   ]
  },
  {
   "cell_type": "code",
   "execution_count": 48,
   "metadata": {},
   "outputs": [
    {
     "name": "stdout",
     "output_type": "stream",
     "text": [
      "x0 = -1.5\n",
      "Iteration #1: x = -1.9230769230769231 , ea = 22.000000000000004 \n",
      "Iteration #2: x = -1.9817212490479819 , ea = 2.959262106072256 \n",
      "Iteration #3: x = -1.9954828776884295 , ea = 0.68963902393335 \n",
      "Iteration #4: x = -1.9988739130183657 , ea = 0.1696472852965326 \n",
      "Iteration #5: x = -1.999718676474529 , ea = 0.04224411493983486 \n",
      "Iteration #6: x = -1.9999296814860192 , ea = 0.01055062152652841 \n",
      "Iteration #7: x = -1.9999824211441335 , ea = 0.0026370060834876117 \n",
      "x0 = 1.8\n",
      "Iteration #1: x = 4.2588235294117665 , ea = 57.73480662983428 \n",
      "Iteration #2: x = 4.108502440277422 , ea = 3.6587805732006333 \n",
      "Iteration #3: x = 4.044313107916631 , ea = 1.587150417091652 \n",
      "Iteration #4: x = 4.0178802743157 , ea = 0.6578800709892496 \n",
      "Iteration #5: x = 4.007177549601464 , ea = 0.2670888569761513 \n",
      "Iteration #6: x = 4.002875132362699 , ea = 0.10748317388121571 \n",
      "Iteration #7: x = 4.0011507136860525 , ea = 0.04309806853183755 \n",
      "Iteration #8: x = 4.000460391369224 , ea = 0.01725607178409252 \n",
      "Iteration #9: x = 4.000184173502165 , ea = 0.006905128741039296 \n",
      "Iteration #10: x = 4.000073672114306 , ea = 0.002762483816959597 \n",
      "x0 = 4.2\n",
      "Iteration #1: x = 4.083018867924528 , ea = 2.8650646950092584 \n",
      "Iteration #2: x = 4.033745519215272 , ea = 1.2215284398714688 \n",
      "Iteration #3: x = 4.013588395461485 , ea = 0.5022219960716549 \n",
      "Iteration #4: x = 4.005450069771832 , ea = 0.2031813041703267 \n",
      "Iteration #5: x = 4.002182400290679 , ea = 0.081647190315841 \n",
      "Iteration #6: x = 4.000873340896649 , ea = 0.032719341066087475 \n",
      "Iteration #7: x = 4.000349397360623 , ea = 0.013097444347540323 \n",
      "Iteration #8: x = 4.000139768709506 , ea = 0.0052405331622818055 \n",
      "Iteration #9: x = 4.00005590904656 , ea = 0.0020964622708315524 \n"
     ]
    }
   ],
   "source": [
    "print(\"x0 = -1.5\")\n",
    "newton(f,df,-1.5,4)\n",
    "print(\"x0 = 1.8\")\n",
    "newton(f,df,1.8,4)\n",
    "print(\"x0 = 4.2\")\n",
    "newton(f,df,4.2,4)"
   ]
  },
  {
   "cell_type": "markdown",
   "metadata": {},
   "source": [
    "# Task 2"
   ]
  },
  {
   "cell_type": "code",
   "execution_count": 33,
   "metadata": {},
   "outputs": [],
   "source": [
    "def f(x):\n",
    "    return (x**2)-(2*x)-3\n",
    "#end function\n",
    "\n",
    "def df(x):\n",
    "    return (2*x) - 2"
   ]
  },
  {
   "cell_type": "code",
   "execution_count": 35,
   "metadata": {},
   "outputs": [
    {
     "name": "stdout",
     "output_type": "stream",
     "text": [
      "x0 = 0\n",
      "Iteration #1: x = -1.5 , ea = 100.0 \n",
      "Iteration #2: x = -1.05 , ea = 42.85714285714285 \n",
      "Iteration #3: x = -1.000609756097561 , ea = 4.936014625228512 \n",
      "Iteration #4: x = -1.0000000929222947 , ea = 0.060966311861504356 \n",
      "Iteration #5: x = -1.000000000000002 , ea = 9.292229274926437e-06 \n"
     ]
    }
   ],
   "source": [
    "print(\"x0 = 0\")\n",
    "newton(f,df,0,4)"
   ]
  },
  {
   "cell_type": "code",
   "execution_count": 36,
   "metadata": {},
   "outputs": [],
   "source": [
    "def g(x):\n",
    "    return math.sqrt((2*x)+3)\n",
    "#end function\n",
    "\n",
    "def fixedpoint(g,x0,p):\n",
    "\n",
    "    es = 0.5*(10**(2-p))\n",
    "    ea =100\n",
    "    x= x0\n",
    "    prev_x = x\n",
    "    \n",
    "    i = 1\n",
    "    while(ea > es):\n",
    "        x = g(x)\n",
    "        ea = abs((x-prev_x)/x) *100\n",
    "        print('Iteration #{}: x = {} , ea = {} '.format(i,x,ea))\n",
    "        prev_x = x\n",
    "        i += 1\n",
    "    #end while\n",
    "#end function"
   ]
  },
  {
   "cell_type": "code",
   "execution_count": 38,
   "metadata": {},
   "outputs": [
    {
     "name": "stdout",
     "output_type": "stream",
     "text": [
      "x0 = 0\n",
      "Iteration #1: x = 1.7320508075688772 , ea = 100.0 \n",
      "Iteration #2: x = 2.5424597568374123 , ea = 31.874996136678675 \n",
      "Iteration #3: x = 2.843399288470549 , ea = 10.583794293449747 \n",
      "Iteration #4: x = 2.947337540381335 , ea = 3.5265133527033363 \n",
      "Iteration #5: x = 2.982394186012753 , ea = 1.1754531240649413 \n",
      "Iteration #6: x = 2.9941256439945043 , ea = 0.39181582126594555 \n",
      "Iteration #7: x = 2.998041241875937 , ea = 0.1306052040492413 \n",
      "Iteration #8: x = 2.9993470095592265 , ea = 0.043535065436846765 \n",
      "Iteration #9: x = 2.9997823286229375 , ea = 0.014511688383430326 \n",
      "Iteration #10: x = 2.9999274419968684 , ea = 0.004837229457602437 \n"
     ]
    }
   ],
   "source": [
    "print(\"x0 = 0\")\n",
    "fixedpoint(g,0,4)"
   ]
  },
  {
   "cell_type": "code",
   "execution_count": 39,
   "metadata": {},
   "outputs": [],
   "source": [
    "def f_2(x):\n",
    "    return math.e**(-x)-x\n",
    "#end function\n",
    "\n",
    "def df_2(x):\n",
    "  \n",
    "    return -1*math.e**(-x) -1"
   ]
  },
  {
   "cell_type": "code",
   "execution_count": 41,
   "metadata": {},
   "outputs": [
    {
     "name": "stdout",
     "output_type": "stream",
     "text": [
      "x0 = 0\n",
      "Iteration #1: x = 0.5 , ea = 100.0 \n",
      "Iteration #2: x = 0.5663110031972182 , ea = 11.709290976662396 \n",
      "Iteration #3: x = 0.5671431650348623 , ea = 0.1467287078374586 \n",
      "Iteration #4: x = 0.5671432904097811 , ea = 2.210639196482192e-05 \n"
     ]
    }
   ],
   "source": [
    "print(\"x0 = 0\")\n",
    "newton(f_2,df_2,0,4)"
   ]
  },
  {
   "cell_type": "code",
   "execution_count": 42,
   "metadata": {},
   "outputs": [],
   "source": [
    "def g_2(x):\n",
    "    \n",
    "    return math.e**(-x)\n",
    "#end function"
   ]
  },
  {
   "cell_type": "code",
   "execution_count": 43,
   "metadata": {},
   "outputs": [
    {
     "name": "stdout",
     "output_type": "stream",
     "text": [
      "x0 = 0\n",
      "Iteration #1: x = 1.0 , ea = 100.0 \n",
      "Iteration #2: x = 0.36787944117144233 , ea = 171.8281828459045 \n",
      "Iteration #3: x = 0.6922006275553464 , ea = 46.85363946133844 \n",
      "Iteration #4: x = 0.5004735005636368 , ea = 38.30914659333314 \n",
      "Iteration #5: x = 0.6062435350855974 , ea = 17.446789681151248 \n",
      "Iteration #6: x = 0.545395785975027 , ea = 11.156622525381316 \n",
      "Iteration #7: x = 0.5796123355033789 , ea = 5.9033508144086735 \n",
      "Iteration #8: x = 0.5601154613610891 , ea = 3.480866979624528 \n",
      "Iteration #9: x = 0.571143115080177 , ea = 1.9308039312598229 \n",
      "Iteration #10: x = 0.5648793473910495 , ea = 1.1088682420515694 \n",
      "Iteration #11: x = 0.5684287250290607 , ea = 0.6244191191832817 \n",
      "Iteration #12: x = 0.5664147331468833 , ea = 0.35556841379956905 \n",
      "Iteration #13: x = 0.5675566373282835 , ea = 0.20119651613549186 \n",
      "Iteration #14: x = 0.5669089119214953 , ea = 0.11425564022143186 \n",
      "Iteration #15: x = 0.5672762321755697 , ea = 0.06475156779716675 \n",
      "Iteration #16: x = 0.5670678983907883 , ea = 0.036738772441988095 \n",
      "Iteration #17: x = 0.5671860500993571 , ea = 0.020831208480545794 \n",
      "Iteration #18: x = 0.5671190400572149 , ea = 0.011815868875676731 \n",
      "Iteration #19: x = 0.5671570440012975 , ea = 0.00670077970194647 \n",
      "Iteration #20: x = 0.5671354902062784 , ea = 0.003800466624170186 \n"
     ]
    }
   ],
   "source": [
    "print(\"x0 = 0\")\n",
    "fixedpoint(g_2,0,4)"
   ]
  },
  {
   "cell_type": "code",
   "execution_count": 44,
   "metadata": {},
   "outputs": [],
   "source": [
    "def f_3(x):\n",
    "    return (math.sin(2.0*math.pi*x) + math.e**(1.2*x) + x - 2.5)\n",
    "#end function\n",
    "\n",
    "def df_3(x):\n",
    "  \n",
    "    return ((1.2*math.e**(1.2*x)) + (2.0*math.pi*math.cos(2.0*math.pi*x)) + 1)"
   ]
  },
  {
   "cell_type": "code",
   "execution_count": 46,
   "metadata": {},
   "outputs": [
    {
     "name": "stdout",
     "output_type": "stream",
     "text": [
      "x0 = 0\n",
      "Iteration #1: x = 0.17682037415008522 , ea = 100.0 \n",
      "Iteration #2: x = 0.2129859914728987 , ea = 16.9802798168608 \n",
      "Iteration #3: x = 0.2186697762273898 , ea = 2.599254845617377 \n",
      "Iteration #4: x = 0.21882604544356993 , ea = 0.07141253037925697 \n",
      "Iteration #5: x = 0.21882616436267346 , ea = 5.4344097234909584e-05 \n"
     ]
    }
   ],
   "source": [
    "print(\"x0 = 0\")\n",
    "newton(f_3,df_3,0,4)"
   ]
  }
 ],
 "metadata": {
  "kernelspec": {
   "display_name": "Python 3",
   "language": "python",
   "name": "python3"
  },
  "language_info": {
   "codemirror_mode": {
    "name": "ipython",
    "version": 3
   },
   "file_extension": ".py",
   "mimetype": "text/x-python",
   "name": "python",
   "nbconvert_exporter": "python",
   "pygments_lexer": "ipython3",
   "version": "3.8.3"
  }
 },
 "nbformat": 4,
 "nbformat_minor": 4
}
