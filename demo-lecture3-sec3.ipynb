{
 "cells": [
  {
   "cell_type": "code",
   "execution_count": 1,
   "metadata": {},
   "outputs": [],
   "source": [
    "import numpy as np\n",
    "import math"
   ]
  },
  {
   "cell_type": "code",
   "execution_count": 2,
   "metadata": {},
   "outputs": [],
   "source": [
    "def f(x):\n",
    "    return (x**3)-(6*(x**2))+(4*x)+12\n",
    "#end function"
   ]
  },
  {
   "cell_type": "code",
   "execution_count": 12,
   "metadata": {},
   "outputs": [],
   "source": [
    "def interval_search(f,L,U,N):\n",
    "    # divide the interval from L to U into N ticks\n",
    "    # N ticks mean (N-1) number of intervals\n",
    "    x = np.linspace(L,U,N)\n",
    "    \n",
    "    for k in range(0,N-1):\n",
    "        if (f(x[k]) * f(x[k+1]) < 0):\n",
    "            xr = (x[k]+x[k+1])/2\n",
    "            print('There is a root inside [{},{}].  The estimated root is at {}'.format(x[k],x[k+1],xr))\n",
    "        else:\n",
    "            pass\n",
    "        #end if\n",
    "    #end for\n",
    "#end function\n",
    "    "
   ]
  },
  {
   "cell_type": "code",
   "execution_count": 13,
   "metadata": {},
   "outputs": [
    {
     "name": "stdout",
     "output_type": "stream",
     "text": [
      "[ 0.  1.  2.  3.  4.  5.  6.  7.  8.  9. 10.]\n"
     ]
    }
   ],
   "source": [
    "x = np.linspace(0,10,11)\n",
    "print(x)"
   ]
  },
  {
   "cell_type": "code",
   "execution_count": 14,
   "metadata": {},
   "outputs": [
    {
     "name": "stdout",
     "output_type": "stream",
     "text": [
      "There is a root inside [-2.0,-1.0].  The estimated root is at -1.5\n",
      "There is a root inside [2.0,3.0].  The estimated root is at 2.5\n",
      "There is a root inside [4.0,5.0].  The estimated root is at 4.5\n"
     ]
    }
   ],
   "source": [
    "L = -2\n",
    "U = 6\n",
    "N = 9\n",
    "interval_search(f,L,U,N)\n"
   ]
  },
  {
   "cell_type": "code",
   "execution_count": 15,
   "metadata": {},
   "outputs": [
    {
     "name": "stdout",
     "output_type": "stream",
     "text": [
      "There is a root inside [-1.125,-1.0].  The estimated root is at -1.0625\n"
     ]
    }
   ],
   "source": [
    "L = -2\n",
    "U = -1\n",
    "N = 9\n",
    "interval_search(f,L,U,N)"
   ]
  },
  {
   "cell_type": "code",
   "execution_count": 16,
   "metadata": {},
   "outputs": [
    {
     "name": "stdout",
     "output_type": "stream",
     "text": [
      "There is a root inside [-1.0625,-1.046875].  The estimated root is at -1.0546875\n"
     ]
    }
   ],
   "source": [
    "L = -1.125\n",
    "U = -1\n",
    "N = 9\n",
    "interval_search(f,L,U,N)"
   ]
  },
  {
   "cell_type": "code",
   "execution_count": 17,
   "metadata": {},
   "outputs": [
    {
     "name": "stdout",
     "output_type": "stream",
     "text": [
      "There is a root inside [-1.052734375,-1.05078125].  The estimated root is at -1.0517578125\n"
     ]
    }
   ],
   "source": [
    "L = -1.0625\n",
    "U = -1.046875\n",
    "N = 9\n",
    "interval_search(f,L,U,N)"
   ]
  },
  {
   "cell_type": "code",
   "execution_count": 20,
   "metadata": {},
   "outputs": [],
   "source": [
    "def deep_interval_search(f,L,U,N,p):\n",
    "    # stopping criterion\n",
    "    es = 0.5*(10**(2-p))\n",
    "    # divide the interval from L to U into N ticks\n",
    "    # N ticks mean (N-1) number of intervals\n",
    "    ea = 100\n",
    "    prev_xr = U\n",
    "    \n",
    "    while (ea > es):\n",
    "        x = np.linspace(L,U,N)\n",
    "        for k in range(0,N-1):\n",
    "            if (f(x[k]) * f(x[k+1]) < 0):\n",
    "                L = x[k]\n",
    "                U = x[k+1]\n",
    "                xr = (x[k]+x[k+1])/2\n",
    "                print('There is a root inside [{},{}].  The estimated root is at {}'.format(x[k],x[k+1],xr))\n",
    "            else:\n",
    "                pass\n",
    "            #end if\n",
    "        #end for\n",
    "        ea = abs((xr-prev_xr)/xr)*100\n",
    "        prev_xr = xr\n",
    "        print('ea = {}'.format(ea))\n",
    "    #end while\n",
    "#end function"
   ]
  },
  {
   "cell_type": "code",
   "execution_count": 21,
   "metadata": {},
   "outputs": [
    {
     "name": "stdout",
     "output_type": "stream",
     "text": [
      "There is a root inside [-1.125,-1.0].  The estimated root is at -1.0625\n",
      "ea = 5.88235294117647\n",
      "There is a root inside [-1.0625,-1.046875].  The estimated root is at -1.0546875\n",
      "ea = 0.7407407407407408\n",
      "There is a root inside [-1.052734375,-1.05078125].  The estimated root is at -1.0517578125\n",
      "ea = 0.2785515320334262\n",
      "There is a root inside [-1.051513671875,-1.05126953125].  The estimated root is at -1.0513916015625\n",
      "ea = 0.034831069313827935\n",
      "There is a root inside [-1.0513916015625,-1.051361083984375].  The estimated root is at -1.0513763427734375\n",
      "ea = 0.0014513156176073612\n"
     ]
    }
   ],
   "source": [
    "L = -2\n",
    "U = -1\n",
    "N = 9\n",
    "p = 4\n",
    "deep_interval_search(f,L,U,N,p)"
   ]
  },
  {
   "cell_type": "code",
   "execution_count": 23,
   "metadata": {},
   "outputs": [],
   "source": [
    "def bisection(f,xl,xu,p):\n",
    "    # stopping criterion\n",
    "    es = 0.5*(10**(2-p))\n",
    "    # divide the interval from L to U into N ticks\n",
    "    # N ticks mean (N-1) number of intervals\n",
    "    ea = 100\n",
    "    prev_xr = xu\n",
    "    \n",
    "    i = 1\n",
    "    while (ea > es):\n",
    "        xm = (xl + xu)/2\n",
    "        if (f(xl) * f(xm) > 0):\n",
    "            xl = xm\n",
    "            # xu = xu\n",
    "        else:\n",
    "            # xl = xl\n",
    "            xu = xm\n",
    "        #end if\n",
    "        xr = (xl + xu)/2\n",
    "        ea = abs((xr-prev_xr)/xr)*100\n",
    "        prev_xr = xr\n",
    "        print('Iteration #{}, new interval = [{},{}], xr = {}, ea = {}'.format(i,xl,xu,xr,ea))\n",
    "        i += 1\n",
    "    #end while\n",
    "#end function"
   ]
  },
  {
   "cell_type": "code",
   "execution_count": 24,
   "metadata": {},
   "outputs": [
    {
     "name": "stdout",
     "output_type": "stream",
     "text": [
      "Iteration #1, new interval = [-1.5,-1], xr = -1.25, ea = 20.0\n",
      "Iteration #2, new interval = [-1.25,-1], xr = -1.125, ea = 11.11111111111111\n",
      "Iteration #3, new interval = [-1.125,-1], xr = -1.0625, ea = 5.88235294117647\n",
      "Iteration #4, new interval = [-1.0625,-1], xr = -1.03125, ea = 3.0303030303030303\n",
      "Iteration #5, new interval = [-1.0625,-1.03125], xr = -1.046875, ea = 1.4925373134328357\n",
      "Iteration #6, new interval = [-1.0625,-1.046875], xr = -1.0546875, ea = 0.7407407407407408\n",
      "Iteration #7, new interval = [-1.0546875,-1.046875], xr = -1.05078125, ea = 0.37174721189591076\n",
      "Iteration #8, new interval = [-1.0546875,-1.05078125], xr = -1.052734375, ea = 0.1855287569573284\n",
      "Iteration #9, new interval = [-1.052734375,-1.05078125], xr = -1.0517578125, ea = 0.09285051067780872\n",
      "Iteration #10, new interval = [-1.0517578125,-1.05078125], xr = -1.05126953125, ea = 0.046446818392940084\n",
      "Iteration #11, new interval = [-1.0517578125,-1.05126953125], xr = -1.051513671875, ea = 0.023218017181332713\n",
      "Iteration #12, new interval = [-1.051513671875,-1.05126953125], xr = -1.0513916015625, ea = 0.011610356437942644\n",
      "Iteration #13, new interval = [-1.0513916015625,-1.05126953125], xr = -1.05133056640625, ea = 0.005805515239477504\n",
      "Iteration #14, new interval = [-1.0513916015625,-1.05133056640625], xr = -1.051361083984375, ea = 0.0029026733621665556\n"
     ]
    }
   ],
   "source": [
    "xl = -2\n",
    "xu = -1\n",
    "p = 4\n",
    "bisection(f,xl,xu,p)\n",
    "\n"
   ]
  },
  {
   "cell_type": "code",
   "execution_count": 25,
   "metadata": {},
   "outputs": [],
   "source": [
    "def falseposition(f, xl, xu, p):\n",
    "    # stopping criterion\n",
    "    es = 0.5*(10**(2-p))\n",
    "    # divide the interval from L to U into N ticks\n",
    "    # N ticks mean (N-1) number of intervals\n",
    "    ea = 100\n",
    "    prev_xr = xu\n",
    "    \n",
    "    i = 1\n",
    "    while (ea > es):\n",
    "        #xr = (xl + xu)/2\n",
    "        xr = xu - f(xu)*(xu-xl)/(f(xu)-f(xl))\n",
    "        if (f(xl) * f(xr) > 0):\n",
    "            xl = xr\n",
    "            # xu = xu\n",
    "        else:\n",
    "            # xl = xl\n",
    "            xu = xr\n",
    "        #end if\n",
    "        #xr = xu - f(xu)*(xu-xl)/(f(xu)-f(xl))\n",
    "        ea = abs((xr-prev_xr)/xr)*100\n",
    "        prev_xr = xr\n",
    "        print('Iteration #{}, new interval = [{},{}], xr = {}, ea = {}'.format(i,xl,xu,xr,ea))\n",
    "        i += 1\n",
    "    #end while\n",
    "#end function"
   ]
  },
  {
   "cell_type": "code",
   "execution_count": 27,
   "metadata": {},
   "outputs": [
    {
     "name": "stdout",
     "output_type": "stream",
     "text": [
      "Iteration #1, new interval = [-2,-1.0344827586206897], xr = -1.0344827586206897, ea = 3.3333333333333397\n",
      "Iteration #2, new interval = [-2,-1.0458670988654781], xr = -1.0458670988654781, ea = 1.0885073502300395\n",
      "Iteration #3, new interval = [-2,-1.0495837190416966], xr = -1.0495837190416966, ea = 0.35410421377456436\n",
      "Iteration #4, new interval = [-2,-1.0507926203276279], xr = -1.0507926203276279, ea = 0.1150466098205366\n",
      "Iteration #5, new interval = [-2,-1.0511853672982538], xr = -1.0511853672982538, ea = 0.03736229430546605\n",
      "Iteration #6, new interval = [-2,-1.051312912931239], xr = -1.051312912931239, ea = 0.012132033328650703\n",
      "Iteration #7, new interval = [-2,-1.0513543284748363], xr = -1.0513543284748363, ea = 0.0039392564880907\n"
     ]
    }
   ],
   "source": [
    "xl = -2\n",
    "xu = -1\n",
    "p = 4\n",
    "falseposition(f,xl,xu,p)"
   ]
  },
  {
   "cell_type": "code",
   "execution_count": 28,
   "metadata": {},
   "outputs": [],
   "source": [
    "def newton(f,df,x0,p):\n",
    "    # stopping criterion\n",
    "    es = 0.5*(10**(2-p))\n",
    "    ea = 100\n",
    "    x = x0\n",
    "    prev_x = x\n",
    "    \n",
    "    i = 1\n",
    "    while (ea > es):\n",
    "        x = x - (f(x)/df(x))\n",
    "        ea = abs((x - prev_x)/x) * 100\n",
    "        print('Iteration #{}: x = {}, ea = {}'.format(i,x,ea))\n",
    "        prev_x = x\n",
    "        i += 1\n",
    "    #end while\n",
    "#end function"
   ]
  },
  {
   "cell_type": "code",
   "execution_count": 29,
   "metadata": {},
   "outputs": [],
   "source": [
    "def df(x):\n",
    "    #since f(x) = x^3 - 6x^2 + 4x + 12\n",
    "    # so df(x) = 3x^2 - 12x + 4\n",
    "    return 3*(x**2) - (12*x) + 4\n",
    "#end function"
   ]
  },
  {
   "cell_type": "code",
   "execution_count": 30,
   "metadata": {},
   "outputs": [
    {
     "name": "stdout",
     "output_type": "stream",
     "text": [
      "Iteration #1: x = -1.1217391304347826, ea = 33.720930232558146\n",
      "Iteration #2: x = -1.0535413798425826, ea = 6.47319145664596\n",
      "Iteration #3: x = -1.0513763953379351, ea = 0.20591907087200134\n",
      "Iteration #4: x = -1.051374241733167, ea = 0.00020483712483991635\n"
     ]
    }
   ],
   "source": [
    "newton(f,df,-1.5,4)"
   ]
  },
  {
   "cell_type": "code",
   "execution_count": 31,
   "metadata": {},
   "outputs": [
    {
     "name": "stdout",
     "output_type": "stream",
     "text": [
      "Iteration #1: x = 4.631578947368421, ea = 7.954545454545451\n",
      "Iteration #2: x = 4.5398730999223975, ea = 2.02000904931883\n",
      "Iteration #3: x = 4.534092780029632, ea = 0.12748569941542987\n",
      "Iteration #4: x = 4.5340701970669155, ea = 0.0004980726308856394\n"
     ]
    }
   ],
   "source": [
    "newton(f,df,5,4)"
   ]
  },
  {
   "cell_type": "code",
   "execution_count": 32,
   "metadata": {},
   "outputs": [],
   "source": [
    "def g(x):\n",
    "    # f(x) = e^(-x) - x\n",
    "    # f(x) == 0 ---> x = g(x) where g(x) = e^(-x)\n",
    "    return math.e**(-x)\n",
    "#end function"
   ]
  },
  {
   "cell_type": "code",
   "execution_count": 33,
   "metadata": {},
   "outputs": [],
   "source": [
    "def fixedpoint(g,x0,p):\n",
    "    # stopping criterion\n",
    "    es = 0.5*(10**(2-p))\n",
    "    ea = 100\n",
    "    x = x0\n",
    "    prev_x = x\n",
    "    \n",
    "    i = 1\n",
    "    while (ea > es):\n",
    "        x = g(x)\n",
    "        ea = abs((x - prev_x)/x) * 100\n",
    "        print('Iteration #{}: x = {}, ea = {}'.format(i,x,ea))\n",
    "        prev_x = x\n",
    "        i += 1\n",
    "    #end while\n",
    "#end function"
   ]
  },
  {
   "cell_type": "code",
   "execution_count": 35,
   "metadata": {},
   "outputs": [
    {
     "name": "stdout",
     "output_type": "stream",
     "text": [
      "Iteration #1: x = 0.36787944117144233, ea = 171.8281828459045\n",
      "Iteration #2: x = 0.6922006275553464, ea = 46.85363946133844\n",
      "Iteration #3: x = 0.5004735005636368, ea = 38.30914659333314\n",
      "Iteration #4: x = 0.6062435350855974, ea = 17.446789681151248\n",
      "Iteration #5: x = 0.545395785975027, ea = 11.156622525381316\n",
      "Iteration #6: x = 0.5796123355033789, ea = 5.9033508144086735\n",
      "Iteration #7: x = 0.5601154613610891, ea = 3.480866979624528\n",
      "Iteration #8: x = 0.571143115080177, ea = 1.9308039312598229\n",
      "Iteration #9: x = 0.5648793473910495, ea = 1.1088682420515694\n",
      "Iteration #10: x = 0.5684287250290607, ea = 0.6244191191832817\n",
      "Iteration #11: x = 0.5664147331468833, ea = 0.35556841379956905\n",
      "Iteration #12: x = 0.5675566373282835, ea = 0.20119651613549186\n",
      "Iteration #13: x = 0.5669089119214953, ea = 0.11425564022143186\n",
      "Iteration #14: x = 0.5672762321755697, ea = 0.06475156779716675\n",
      "Iteration #15: x = 0.5670678983907883, ea = 0.036738772441988095\n",
      "Iteration #16: x = 0.5671860500993571, ea = 0.020831208480545794\n",
      "Iteration #17: x = 0.5671190400572149, ea = 0.011815868875676731\n",
      "Iteration #18: x = 0.5671570440012975, ea = 0.00670077970194647\n",
      "Iteration #19: x = 0.5671354902062784, ea = 0.003800466624170186\n"
     ]
    }
   ],
   "source": [
    "fixedpoint(g,1,4)\n",
    "# to solve f(x) = e^(-x) - x == 0\n",
    "# first we transform f(x) == 0 to x == g(x) \n",
    "# we found that g(x) = e^(-x)"
   ]
  },
  {
   "cell_type": "code",
   "execution_count": null,
   "metadata": {},
   "outputs": [],
   "source": []
  }
 ],
 "metadata": {
  "kernelspec": {
   "display_name": "Python 3",
   "language": "python",
   "name": "python3"
  },
  "language_info": {
   "codemirror_mode": {
    "name": "ipython",
    "version": 3
   },
   "file_extension": ".py",
   "mimetype": "text/x-python",
   "name": "python",
   "nbconvert_exporter": "python",
   "pygments_lexer": "ipython3",
   "version": "3.7.7"
  }
 },
 "nbformat": 4,
 "nbformat_minor": 4
}
